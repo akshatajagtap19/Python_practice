{
 "cells": [
  {
   "cell_type": "code",
   "execution_count": 2,
   "id": "710fc064",
   "metadata": {},
   "outputs": [],
   "source": [
    "t=(1,2,3,4,5)"
   ]
  },
  {
   "cell_type": "code",
   "execution_count": 3,
   "id": "a46cd006",
   "metadata": {},
   "outputs": [
    {
     "data": {
      "text/plain": [
       "tuple"
      ]
     },
     "execution_count": 3,
     "metadata": {},
     "output_type": "execute_result"
    }
   ],
   "source": [
    "type(t)"
   ]
  },
  {
   "cell_type": "code",
   "execution_count": 5,
   "id": "5ce49bd8",
   "metadata": {},
   "outputs": [
    {
     "data": {
      "text/plain": [
       "tuple"
      ]
     },
     "execution_count": 5,
     "metadata": {},
     "output_type": "execute_result"
    }
   ],
   "source": [
    "t1=(\"jeetu\",456,3+2j,34.48,True)\n",
    "l=[\"jeetu\",456,3+2j,34.48,True]\n",
    "type(t1)\n"
   ]
  },
  {
   "cell_type": "code",
   "execution_count": 6,
   "id": "95fa3199",
   "metadata": {},
   "outputs": [
    {
     "data": {
      "text/plain": [
       "list"
      ]
     },
     "execution_count": 6,
     "metadata": {},
     "output_type": "execute_result"
    }
   ],
   "source": [
    "type(l)"
   ]
  },
  {
   "cell_type": "code",
   "execution_count": 7,
   "id": "8480a3db",
   "metadata": {},
   "outputs": [
    {
     "data": {
      "text/plain": [
       "('jeetu', 456, (3+2j), 34.48, True)"
      ]
     },
     "execution_count": 7,
     "metadata": {},
     "output_type": "execute_result"
    }
   ],
   "source": [
    "t1"
   ]
  },
  {
   "cell_type": "code",
   "execution_count": 8,
   "id": "2923ca41",
   "metadata": {},
   "outputs": [
    {
     "data": {
      "text/plain": [
       "('jeetu', 456)"
      ]
     },
     "execution_count": 8,
     "metadata": {},
     "output_type": "execute_result"
    }
   ],
   "source": [
    "t1[0:2]"
   ]
  },
  {
   "cell_type": "code",
   "execution_count": 9,
   "id": "3eb527bf",
   "metadata": {},
   "outputs": [
    {
     "data": {
      "text/plain": [
       "(True, 34.48, (3+2j), 456, 'jeetu')"
      ]
     },
     "execution_count": 9,
     "metadata": {},
     "output_type": "execute_result"
    }
   ],
   "source": [
    "t1[::-1]"
   ]
  },
  {
   "cell_type": "code",
   "execution_count": 10,
   "id": "5f485035",
   "metadata": {},
   "outputs": [
    {
     "data": {
      "text/plain": [
       "['jeetu', 456, (3+2j), 34.48, True]"
      ]
     },
     "execution_count": 10,
     "metadata": {},
     "output_type": "execute_result"
    }
   ],
   "source": [
    "l"
   ]
  },
  {
   "cell_type": "code",
   "execution_count": 11,
   "id": "631bd793",
   "metadata": {},
   "outputs": [],
   "source": [
    "l[0]=\"akshu\""
   ]
  },
  {
   "cell_type": "code",
   "execution_count": 12,
   "id": "54435579",
   "metadata": {},
   "outputs": [
    {
     "data": {
      "text/plain": [
       "['akshu', 456, (3+2j), 34.48, True]"
      ]
     },
     "execution_count": 12,
     "metadata": {},
     "output_type": "execute_result"
    }
   ],
   "source": [
    "l"
   ]
  },
  {
   "cell_type": "code",
   "execution_count": 19,
   "id": "5dc085a3",
   "metadata": {},
   "outputs": [
    {
     "data": {
      "text/plain": [
       "('jeetu', 456, (3+2j), 34.48, True)"
      ]
     },
     "execution_count": 19,
     "metadata": {},
     "output_type": "execute_result"
    }
   ],
   "source": [
    "t1"
   ]
  },
  {
   "cell_type": "code",
   "execution_count": 14,
   "id": "bff5ed46",
   "metadata": {},
   "outputs": [
    {
     "data": {
      "text/plain": [
       "(1, 2, 3, 4, 5)"
      ]
     },
     "execution_count": 14,
     "metadata": {},
     "output_type": "execute_result"
    }
   ],
   "source": [
    "t"
   ]
  },
  {
   "cell_type": "code",
   "execution_count": 15,
   "id": "16b403e3",
   "metadata": {},
   "outputs": [
    {
     "data": {
      "text/plain": [
       "('jeetu', 456, (3+2j), 34.48, True, 1, 2, 3, 4, 5)"
      ]
     },
     "execution_count": 15,
     "metadata": {},
     "output_type": "execute_result"
    }
   ],
   "source": [
    "t1+t"
   ]
  },
  {
   "cell_type": "code",
   "execution_count": 16,
   "id": "f65e4899",
   "metadata": {},
   "outputs": [
    {
     "data": {
      "text/plain": [
       "('jeetu', 456, (3+2j), 34.48, True, 'jeetu', 456, (3+2j), 34.48, True)"
      ]
     },
     "execution_count": 16,
     "metadata": {},
     "output_type": "execute_result"
    }
   ],
   "source": [
    "t1*2"
   ]
  },
  {
   "cell_type": "markdown",
   "id": "65090d6d",
   "metadata": {},
   "source": [
    "<b><u>Bold</u></b>\n",
    "<p style=\"color:red;\">I am red</p>"
   ]
  },
  {
   "cell_type": "code",
   "execution_count": 20,
   "id": "4c7bdce2",
   "metadata": {},
   "outputs": [
    {
     "data": {
      "text/plain": [
       "('jeetu', 456, (3+2j), 34.48, True)"
      ]
     },
     "execution_count": 20,
     "metadata": {},
     "output_type": "execute_result"
    }
   ],
   "source": [
    "t1"
   ]
  },
  {
   "cell_type": "code",
   "execution_count": 37,
   "id": "b3b74a07",
   "metadata": {},
   "outputs": [
    {
     "data": {
      "text/plain": [
       "1"
      ]
     },
     "execution_count": 37,
     "metadata": {},
     "output_type": "execute_result"
    }
   ],
   "source": [
    "t1.count(True)"
   ]
  },
  {
   "cell_type": "code",
   "execution_count": 39,
   "id": "11bc8fd0",
   "metadata": {},
   "outputs": [
    {
     "data": {
      "text/plain": [
       "4"
      ]
     },
     "execution_count": 39,
     "metadata": {},
     "output_type": "execute_result"
    }
   ],
   "source": [
    "t1.index(True)"
   ]
  },
  {
   "cell_type": "code",
   "execution_count": 40,
   "id": "63874739",
   "metadata": {},
   "outputs": [],
   "source": [
    "t1=([1,2,3,4],(\"ab\",42,56))"
   ]
  },
  {
   "cell_type": "code",
   "execution_count": 41,
   "id": "28525813",
   "metadata": {},
   "outputs": [],
   "source": [
    "t1[0][1]=\"akshu\""
   ]
  },
  {
   "cell_type": "code",
   "execution_count": 42,
   "id": "3fbb0803",
   "metadata": {},
   "outputs": [
    {
     "data": {
      "text/plain": [
       "([1, 'akshu', 3, 4], ('ab', 42, 56))"
      ]
     },
     "execution_count": 42,
     "metadata": {},
     "output_type": "execute_result"
    }
   ],
   "source": [
    "t1"
   ]
  },
  {
   "cell_type": "code",
   "execution_count": 45,
   "id": "5f481fcc",
   "metadata": {},
   "outputs": [],
   "source": [
    "t1=(1,2,3,4,5)"
   ]
  },
  {
   "cell_type": "code",
   "execution_count": 46,
   "id": "2eda59b3",
   "metadata": {},
   "outputs": [
    {
     "data": {
      "text/plain": [
       "[1, 2, 3, 4, 5]"
      ]
     },
     "execution_count": 46,
     "metadata": {},
     "output_type": "execute_result"
    }
   ],
   "source": [
    "l=list(t1)"
   ]
  },
  {
   "cell_type": "code",
   "execution_count": 49,
   "id": "f8284f25",
   "metadata": {},
   "outputs": [
    {
     "data": {
      "text/plain": [
       "['akshu', 456, (3+2j), 34.48, True]"
      ]
     },
     "execution_count": 49,
     "metadata": {},
     "output_type": "execute_result"
    }
   ],
   "source": [
    "l"
   ]
  },
  {
   "cell_type": "code",
   "execution_count": 50,
   "id": "320c7a8c",
   "metadata": {},
   "outputs": [
    {
     "data": {
      "text/plain": [
       "('akshu', 456, (3+2j), 34.48, True)"
      ]
     },
     "execution_count": 50,
     "metadata": {},
     "output_type": "execute_result"
    }
   ],
   "source": [
    "tuple(l)"
   ]
  },
  {
   "cell_type": "code",
   "execution_count": 52,
   "id": "bee2365a",
   "metadata": {},
   "outputs": [],
   "source": [
    "l=[1,2,3,4,5,34,6,5,6,6,6,3,2,1]"
   ]
  },
  {
   "cell_type": "code",
   "execution_count": 54,
   "id": "027ca673",
   "metadata": {},
   "outputs": [
    {
     "data": {
      "text/plain": [
       "{1, 2, 3, 4, 5, 6, 34}"
      ]
     },
     "execution_count": 54,
     "metadata": {},
     "output_type": "execute_result"
    }
   ],
   "source": [
    "set(l)"
   ]
  },
  {
   "cell_type": "code",
   "execution_count": 55,
   "id": "3dc78f3a",
   "metadata": {},
   "outputs": [],
   "source": [
    "s={}"
   ]
  },
  {
   "cell_type": "code",
   "execution_count": 56,
   "id": "8cb23ee8",
   "metadata": {},
   "outputs": [
    {
     "data": {
      "text/plain": [
       "dict"
      ]
     },
     "execution_count": 56,
     "metadata": {},
     "output_type": "execute_result"
    }
   ],
   "source": [
    "type(s)"
   ]
  },
  {
   "cell_type": "code",
   "execution_count": 57,
   "id": "439fc96f",
   "metadata": {},
   "outputs": [],
   "source": [
    "s={1,2,3,4}"
   ]
  },
  {
   "cell_type": "code",
   "execution_count": 59,
   "id": "2ec104a5",
   "metadata": {},
   "outputs": [
    {
     "data": {
      "text/plain": [
       "set"
      ]
     },
     "execution_count": 59,
     "metadata": {},
     "output_type": "execute_result"
    }
   ],
   "source": [
    "type(s)"
   ]
  },
  {
   "cell_type": "code",
   "execution_count": 77,
   "id": "3377eafe",
   "metadata": {},
   "outputs": [],
   "source": [
    "s1={1,2,3,2,3,3,4,3}"
   ]
  },
  {
   "cell_type": "code",
   "execution_count": 78,
   "id": "a01a1b1f",
   "metadata": {},
   "outputs": [
    {
     "data": {
      "text/plain": [
       "{1, 2, 3, 4}"
      ]
     },
     "execution_count": 78,
     "metadata": {},
     "output_type": "execute_result"
    }
   ],
   "source": [
    "s1"
   ]
  },
  {
   "cell_type": "code",
   "execution_count": 79,
   "id": "3c2bf2e7",
   "metadata": {},
   "outputs": [
    {
     "data": {
      "text/plain": [
       "[1, 2, 3, 4]"
      ]
     },
     "execution_count": 79,
     "metadata": {},
     "output_type": "execute_result"
    }
   ],
   "source": [
    "list(s1)"
   ]
  },
  {
   "cell_type": "code",
   "execution_count": 80,
   "id": "a0762120",
   "metadata": {},
   "outputs": [
    {
     "data": {
      "text/plain": [
       "{1, 2, 3, 4}"
      ]
     },
     "execution_count": 80,
     "metadata": {},
     "output_type": "execute_result"
    }
   ],
   "source": [
    "s1"
   ]
  },
  {
   "cell_type": "code",
   "execution_count": 81,
   "id": "88ee61fe",
   "metadata": {},
   "outputs": [],
   "source": [
    "s1.add(123)"
   ]
  },
  {
   "cell_type": "code",
   "execution_count": 82,
   "id": "b9135e69",
   "metadata": {},
   "outputs": [
    {
     "data": {
      "text/plain": [
       "{1, 2, 3, 4, 123}"
      ]
     },
     "execution_count": 82,
     "metadata": {},
     "output_type": "execute_result"
    }
   ],
   "source": [
    "s1"
   ]
  },
  {
   "cell_type": "code",
   "execution_count": 83,
   "id": "da2b04ee",
   "metadata": {},
   "outputs": [],
   "source": [
    "s1.add(\"akshu\")"
   ]
  },
  {
   "cell_type": "code",
   "execution_count": 84,
   "id": "44c2bf78",
   "metadata": {},
   "outputs": [
    {
     "data": {
      "text/plain": [
       "{1, 123, 2, 3, 4, 'akshu'}"
      ]
     },
     "execution_count": 84,
     "metadata": {},
     "output_type": "execute_result"
    }
   ],
   "source": [
    "s1"
   ]
  },
  {
   "cell_type": "code",
   "execution_count": 85,
   "id": "5d1943d0",
   "metadata": {},
   "outputs": [
    {
     "ename": "TypeError",
     "evalue": "unhashable type: 'list'",
     "output_type": "error",
     "traceback": [
      "\u001b[1;31m---------------------------------------------------------------------------\u001b[0m",
      "\u001b[1;31mTypeError\u001b[0m                                 Traceback (most recent call last)",
      "\u001b[1;32m~\\AppData\\Local\\Temp/ipykernel_28420/3024075572.py\u001b[0m in \u001b[0;36m<module>\u001b[1;34m\u001b[0m\n\u001b[1;32m----> 1\u001b[1;33m \u001b[0ms1\u001b[0m\u001b[1;33m.\u001b[0m\u001b[0madd\u001b[0m\u001b[1;33m(\u001b[0m\u001b[1;33m[\u001b[0m\u001b[1;36m1\u001b[0m\u001b[1;33m,\u001b[0m\u001b[1;36m2\u001b[0m\u001b[1;33m,\u001b[0m\u001b[1;36m3\u001b[0m\u001b[1;33m]\u001b[0m\u001b[1;33m)\u001b[0m\u001b[1;33m\u001b[0m\u001b[1;33m\u001b[0m\u001b[0m\n\u001b[0m",
      "\u001b[1;31mTypeError\u001b[0m: unhashable type: 'list'"
     ]
    }
   ],
   "source": [
    "s1.add([1,2,3])"
   ]
  },
  {
   "cell_type": "code",
   "execution_count": 90,
   "id": "e018fe0e",
   "metadata": {},
   "outputs": [],
   "source": [
    "s={(1,2,3,4),(1,2,3,4),4,5,6,7,8}"
   ]
  },
  {
   "cell_type": "code",
   "execution_count": 91,
   "id": "a54ccb05",
   "metadata": {},
   "outputs": [
    {
     "data": {
      "text/plain": [
       "{(1, 2, 3, 4), 4, 5, 6, 7, 8}"
      ]
     },
     "execution_count": 91,
     "metadata": {},
     "output_type": "execute_result"
    }
   ],
   "source": [
    "s"
   ]
  },
  {
   "cell_type": "code",
   "execution_count": 92,
   "id": "6d0ccf37",
   "metadata": {},
   "outputs": [],
   "source": [
    "s.remove(4)"
   ]
  },
  {
   "cell_type": "code",
   "execution_count": 93,
   "id": "deb530ef",
   "metadata": {},
   "outputs": [
    {
     "data": {
      "text/plain": [
       "{(1, 2, 3, 4), 5, 6, 7, 8}"
      ]
     },
     "execution_count": 93,
     "metadata": {},
     "output_type": "execute_result"
    }
   ],
   "source": [
    "s"
   ]
  },
  {
   "cell_type": "code",
   "execution_count": 94,
   "id": "38ca294f",
   "metadata": {},
   "outputs": [],
   "source": [
    "s.discard(5)"
   ]
  },
  {
   "cell_type": "code",
   "execution_count": 95,
   "id": "ecdc5b33",
   "metadata": {},
   "outputs": [
    {
     "data": {
      "text/plain": [
       "{(1, 2, 3, 4), 6, 7, 8}"
      ]
     },
     "execution_count": 95,
     "metadata": {},
     "output_type": "execute_result"
    }
   ],
   "source": [
    "s"
   ]
  },
  {
   "cell_type": "code",
   "execution_count": 96,
   "id": "afc8bb7c",
   "metadata": {},
   "outputs": [
    {
     "ename": "KeyError",
     "evalue": "35",
     "output_type": "error",
     "traceback": [
      "\u001b[1;31m---------------------------------------------------------------------------\u001b[0m",
      "\u001b[1;31mKeyError\u001b[0m                                  Traceback (most recent call last)",
      "\u001b[1;32m~\\AppData\\Local\\Temp/ipykernel_28420/3892100953.py\u001b[0m in \u001b[0;36m<module>\u001b[1;34m\u001b[0m\n\u001b[1;32m----> 1\u001b[1;33m \u001b[0ms\u001b[0m\u001b[1;33m.\u001b[0m\u001b[0mremove\u001b[0m\u001b[1;33m(\u001b[0m\u001b[1;36m35\u001b[0m\u001b[1;33m)\u001b[0m\u001b[1;33m\u001b[0m\u001b[1;33m\u001b[0m\u001b[0m\n\u001b[0m",
      "\u001b[1;31mKeyError\u001b[0m: 35"
     ]
    }
   ],
   "source": [
    "s.remove(35)"
   ]
  },
  {
   "cell_type": "code",
   "execution_count": 97,
   "id": "8daeca41",
   "metadata": {},
   "outputs": [],
   "source": [
    "s.discard(35)"
   ]
  },
  {
   "cell_type": "code",
   "execution_count": 98,
   "id": "f60f28a7",
   "metadata": {},
   "outputs": [
    {
     "data": {
      "text/plain": [
       "{(1, 2, 3, 4), 6, 7, 8}"
      ]
     },
     "execution_count": 98,
     "metadata": {},
     "output_type": "execute_result"
    }
   ],
   "source": [
    "s"
   ]
  },
  {
   "cell_type": "code",
   "execution_count": 99,
   "id": "b89f8b76",
   "metadata": {},
   "outputs": [
    {
     "data": {
      "text/plain": [
       "{'jeetu'}"
      ]
     },
     "execution_count": 99,
     "metadata": {},
     "output_type": "execute_result"
    }
   ],
   "source": [
    " {\"jeetu\",\"jeetu\"}"
   ]
  },
  {
   "cell_type": "code",
   "execution_count": 100,
   "id": "2ea75e91",
   "metadata": {},
   "outputs": [
    {
     "data": {
      "text/plain": [
       "{'Akshu', 'akshu'}"
      ]
     },
     "execution_count": 100,
     "metadata": {},
     "output_type": "execute_result"
    }
   ],
   "source": [
    "{\"Akshu\",\"akshu\"}"
   ]
  },
  {
   "cell_type": "code",
   "execution_count": 101,
   "id": "f0fe1c6c",
   "metadata": {},
   "outputs": [],
   "source": [
    "s={1,2,3,4,54,6,7,8,6,7,\"akshu\",\"akshu\"}"
   ]
  },
  {
   "cell_type": "code",
   "execution_count": 102,
   "id": "f9759d04",
   "metadata": {},
   "outputs": [
    {
     "data": {
      "text/plain": [
       "{1, 2, 3, 4, 54, 6, 7, 8, 'akshu'}"
      ]
     },
     "execution_count": 102,
     "metadata": {},
     "output_type": "execute_result"
    }
   ],
   "source": [
    "s"
   ]
  },
  {
   "cell_type": "code",
   "execution_count": 111,
   "id": "784e9575",
   "metadata": {},
   "outputs": [],
   "source": [
    "d1={\"key1\":4334,\"key2\":\"akshu\",\"key1\":[1,2,3,4]}"
   ]
  },
  {
   "cell_type": "code",
   "execution_count": 112,
   "id": "3132a9c1",
   "metadata": {},
   "outputs": [
    {
     "data": {
      "text/plain": [
       "{'key1': [1, 2, 3, 4], 'key2': 'akshu'}"
      ]
     },
     "execution_count": 112,
     "metadata": {},
     "output_type": "execute_result"
    }
   ],
   "source": [
    "d1"
   ]
  },
  {
   "cell_type": "code",
   "execution_count": 113,
   "id": "4eb79905",
   "metadata": {},
   "outputs": [
    {
     "data": {
      "text/plain": [
       "[1, 2, 3, 4]"
      ]
     },
     "execution_count": 113,
     "metadata": {},
     "output_type": "execute_result"
    }
   ],
   "source": [
    "d1['key1']"
   ]
  },
  {
   "cell_type": "code",
   "execution_count": 110,
   "id": "365367d4",
   "metadata": {},
   "outputs": [
    {
     "data": {
      "text/plain": [
       "[1, 2, 3, 4]"
      ]
     },
     "execution_count": 110,
     "metadata": {},
     "output_type": "execute_result"
    }
   ],
   "source": [
    "d1[35]"
   ]
  },
  {
   "cell_type": "code",
   "execution_count": 118,
   "id": "a09c4d07",
   "metadata": {},
   "outputs": [],
   "source": [
    "d={\"name\":\"akshu\",\"mob_no\":24364757,\"mail_id\":\"akshuabc@gmail.com\",\"key1\":[1,2,3,4],\"key2\":(1,2,3),\"key3\":{1,2,3,3,4,4,4,4},\"key4\":{2:4,5:6}}"
   ]
  },
  {
   "cell_type": "code",
   "execution_count": 119,
   "id": "dbc8b55d",
   "metadata": {},
   "outputs": [
    {
     "data": {
      "text/plain": [
       "{'name': 'akshu',\n",
       " 'mob_no': 24364757,\n",
       " 'mail_id': 'akshuabc@gmail.com',\n",
       " 'key1': [1, 2, 3, 4],\n",
       " 'key2': (1, 2, 3),\n",
       " 'key3': {1, 2, 3, 4},\n",
       " 'key4': {2: 4, 5: 6}}"
      ]
     },
     "execution_count": 119,
     "metadata": {},
     "output_type": "execute_result"
    }
   ],
   "source": [
    "d"
   ]
  },
  {
   "cell_type": "code",
   "execution_count": 120,
   "id": "b7a9ef39",
   "metadata": {},
   "outputs": [
    {
     "data": {
      "text/plain": [
       "[1, 2, 3, 4]"
      ]
     },
     "execution_count": 120,
     "metadata": {},
     "output_type": "execute_result"
    }
   ],
   "source": [
    "d['key1']"
   ]
  },
  {
   "cell_type": "code",
   "execution_count": 123,
   "id": "8038264a",
   "metadata": {},
   "outputs": [
    {
     "data": {
      "text/plain": [
       "6"
      ]
     },
     "execution_count": 123,
     "metadata": {},
     "output_type": "execute_result"
    }
   ],
   "source": [
    "d['key4'][5]"
   ]
  },
  {
   "cell_type": "code",
   "execution_count": 124,
   "id": "47b6eac8",
   "metadata": {},
   "outputs": [
    {
     "data": {
      "text/plain": [
       "dict_items([('name', 'akshu'), ('mob_no', 24364757), ('mail_id', 'akshuabc@gmail.com'), ('key1', [1, 2, 3, 4]), ('key2', (1, 2, 3)), ('key3', {1, 2, 3, 4}), ('key4', {2: 4, 5: 6})])"
      ]
     },
     "execution_count": 124,
     "metadata": {},
     "output_type": "execute_result"
    }
   ],
   "source": [
    "d.items()"
   ]
  },
  {
   "cell_type": "code",
   "execution_count": 125,
   "id": "c4d0c36b",
   "metadata": {},
   "outputs": [
    {
     "data": {
      "text/plain": [
       "dict_keys(['name', 'mob_no', 'mail_id', 'key1', 'key2', 'key3', 'key4'])"
      ]
     },
     "execution_count": 125,
     "metadata": {},
     "output_type": "execute_result"
    }
   ],
   "source": [
    "d.keys()"
   ]
  },
  {
   "cell_type": "code",
   "execution_count": 126,
   "id": "1423ca60",
   "metadata": {},
   "outputs": [
    {
     "data": {
      "text/plain": [
       "dict_values(['akshu', 24364757, 'akshuabc@gmail.com', [1, 2, 3, 4], (1, 2, 3), {1, 2, 3, 4}, {2: 4, 5: 6}])"
      ]
     },
     "execution_count": 126,
     "metadata": {},
     "output_type": "execute_result"
    }
   ],
   "source": [
    "d.values()"
   ]
  },
  {
   "cell_type": "code",
   "execution_count": 127,
   "id": "1a0ff2dc",
   "metadata": {},
   "outputs": [],
   "source": [
    "d={\"key1\":\"akshu\",\"key2\":[1,2,3]}"
   ]
  },
  {
   "cell_type": "code",
   "execution_count": 129,
   "id": "c830fbc2",
   "metadata": {},
   "outputs": [],
   "source": [
    "d[\"key3\"]=\"jeetu\""
   ]
  },
  {
   "cell_type": "code",
   "execution_count": 130,
   "id": "aa27facc",
   "metadata": {},
   "outputs": [
    {
     "data": {
      "text/plain": [
       "{'key1': 'akshu', 'key2': [1, 2, 3], 'key3': 'jeetu'}"
      ]
     },
     "execution_count": 130,
     "metadata": {},
     "output_type": "execute_result"
    }
   ],
   "source": [
    "d"
   ]
  },
  {
   "cell_type": "code",
   "execution_count": 131,
   "id": "800fa2df",
   "metadata": {},
   "outputs": [],
   "source": [
    "d[\"key1\"]=\"abc\""
   ]
  },
  {
   "cell_type": "code",
   "execution_count": 132,
   "id": "265b23f2",
   "metadata": {},
   "outputs": [
    {
     "data": {
      "text/plain": [
       "{'key1': 'abc', 'key2': [1, 2, 3], 'key3': 'jeetu'}"
      ]
     },
     "execution_count": 132,
     "metadata": {},
     "output_type": "execute_result"
    }
   ],
   "source": [
    "d"
   ]
  },
  {
   "cell_type": "code",
   "execution_count": 135,
   "id": "f205eeaf",
   "metadata": {},
   "outputs": [],
   "source": [
    "del d['key1']"
   ]
  },
  {
   "cell_type": "code",
   "execution_count": 136,
   "id": "7f52b169",
   "metadata": {},
   "outputs": [
    {
     "data": {
      "text/plain": [
       "{'key2': [1, 2, 3], 'key3': 'jeetu'}"
      ]
     },
     "execution_count": 136,
     "metadata": {},
     "output_type": "execute_result"
    }
   ],
   "source": [
    "d"
   ]
  },
  {
   "cell_type": "code",
   "execution_count": 137,
   "id": "41378657",
   "metadata": {},
   "outputs": [],
   "source": [
    " d={'key1':\"akshu\",\"key2\":[1,2,3,4]}"
   ]
  },
  {
   "cell_type": "code",
   "execution_count": 138,
   "id": "db6b052f",
   "metadata": {
    "scrolled": true
   },
   "outputs": [
    {
     "ename": "TypeError",
     "evalue": "unhashable type: 'list'",
     "output_type": "error",
     "traceback": [
      "\u001b[1;31m---------------------------------------------------------------------------\u001b[0m",
      "\u001b[1;31mTypeError\u001b[0m                                 Traceback (most recent call last)",
      "\u001b[1;32m~\\AppData\\Local\\Temp/ipykernel_28420/1324404198.py\u001b[0m in \u001b[0;36m<module>\u001b[1;34m\u001b[0m\n\u001b[1;32m----> 1\u001b[1;33m \u001b[0md\u001b[0m\u001b[1;33m[\u001b[0m\u001b[1;33m[\u001b[0m\u001b[1;36m4\u001b[0m\u001b[1;33m,\u001b[0m\u001b[1;36m5\u001b[0m\u001b[1;33m,\u001b[0m\u001b[1;36m6\u001b[0m\u001b[1;33m]\u001b[0m\u001b[1;33m]\u001b[0m\u001b[1;33m=\u001b[0m\u001b[1;34m\"jeetu\"\u001b[0m\u001b[1;33m\u001b[0m\u001b[1;33m\u001b[0m\u001b[0m\n\u001b[0m",
      "\u001b[1;31mTypeError\u001b[0m: unhashable type: 'list'"
     ]
    }
   ],
   "source": [
    "d[[4,5,6]]=\"jeetu\""
   ]
  },
  {
   "cell_type": "code",
   "execution_count": 139,
   "id": "de22d7e8",
   "metadata": {},
   "outputs": [
    {
     "data": {
      "text/plain": [
       "{'key1': 'akshu', 'key2': [1, 2, 3, 4]}"
      ]
     },
     "execution_count": 139,
     "metadata": {},
     "output_type": "execute_result"
    }
   ],
   "source": [
    "d"
   ]
  },
  {
   "cell_type": "code",
   "execution_count": 140,
   "id": "99052e28",
   "metadata": {},
   "outputs": [],
   "source": [
    "d[(1,2,3)]=\"jeetu\""
   ]
  },
  {
   "cell_type": "code",
   "execution_count": 141,
   "id": "45fb536e",
   "metadata": {},
   "outputs": [
    {
     "data": {
      "text/plain": [
       "{'key1': 'akshu', 'key2': [1, 2, 3, 4], (1, 2, 3): 'jeetu'}"
      ]
     },
     "execution_count": 141,
     "metadata": {},
     "output_type": "execute_result"
    }
   ],
   "source": [
    "d"
   ]
  },
  {
   "cell_type": "code",
   "execution_count": 142,
   "id": "fc215dfd",
   "metadata": {},
   "outputs": [
    {
     "data": {
      "text/plain": [
       "'akshu'"
      ]
     },
     "execution_count": 142,
     "metadata": {},
     "output_type": "execute_result"
    }
   ],
   "source": [
    "d.get(\"key1\")"
   ]
  },
  {
   "cell_type": "code",
   "execution_count": 148,
   "id": "4e46793d",
   "metadata": {},
   "outputs": [],
   "source": [
    "key=(\"name\",\"mob_no\")"
   ]
  },
  {
   "cell_type": "code",
   "execution_count": 162,
   "id": "4c808626",
   "metadata": {},
   "outputs": [],
   "source": [
    "value=(\"akshu\",\"2345\")"
   ]
  },
  {
   "cell_type": "code",
   "execution_count": 157,
   "id": "223ef787",
   "metadata": {},
   "outputs": [],
   "source": [
    "d=d1.fromkeys(key,value)"
   ]
  },
  {
   "cell_type": "code",
   "execution_count": 163,
   "id": "ad3f0473",
   "metadata": {},
   "outputs": [
    {
     "data": {
      "text/plain": [
       "{'name': 'akshu', 'mob_no': 'akshu'}"
      ]
     },
     "execution_count": 163,
     "metadata": {},
     "output_type": "execute_result"
    }
   ],
   "source": [
    "d"
   ]
  },
  {
   "cell_type": "code",
   "execution_count": null,
   "id": "2d51eb33",
   "metadata": {},
   "outputs": [],
   "source": []
  }
 ],
 "metadata": {
  "kernelspec": {
   "display_name": "Python 3 (ipykernel)",
   "language": "python",
   "name": "python3"
  },
  "language_info": {
   "codemirror_mode": {
    "name": "ipython",
    "version": 3
   },
   "file_extension": ".py",
   "mimetype": "text/x-python",
   "name": "python",
   "nbconvert_exporter": "python",
   "pygments_lexer": "ipython3",
   "version": "3.9.7"
  }
 },
 "nbformat": 4,
 "nbformat_minor": 5
}
