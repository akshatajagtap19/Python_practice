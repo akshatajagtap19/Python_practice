{
 "cells": [
  {
   "cell_type": "code",
   "execution_count": 1,
   "id": "f5b22188",
   "metadata": {},
   "outputs": [
    {
     "data": {
      "text/plain": [
       "(5+6j)"
      ]
     },
     "execution_count": 1,
     "metadata": {},
     "output_type": "execute_result"
    }
   ],
   "source": [
    "d=5+6j\n",
    "d"
   ]
  },
  {
   "cell_type": "code",
   "execution_count": 2,
   "id": "0ce03980",
   "metadata": {},
   "outputs": [
    {
     "data": {
      "text/plain": [
       "complex"
      ]
     },
     "execution_count": 2,
     "metadata": {},
     "output_type": "execute_result"
    }
   ],
   "source": [
    "type(d)"
   ]
  },
  {
   "cell_type": "code",
   "execution_count": 3,
   "id": "ad2fabc3",
   "metadata": {},
   "outputs": [],
   "source": [
    "d=6+3j"
   ]
  },
  {
   "cell_type": "code",
   "execution_count": 4,
   "id": "179470a7",
   "metadata": {},
   "outputs": [
    {
     "data": {
      "text/plain": [
       "(6+3j)"
      ]
     },
     "execution_count": 4,
     "metadata": {},
     "output_type": "execute_result"
    }
   ],
   "source": [
    "d"
   ]
  },
  {
   "cell_type": "code",
   "execution_count": 5,
   "id": "5dfc5872",
   "metadata": {},
   "outputs": [
    {
     "data": {
      "text/plain": [
       "complex"
      ]
     },
     "execution_count": 5,
     "metadata": {},
     "output_type": "execute_result"
    }
   ],
   "source": [
    "type(d)"
   ]
  },
  {
   "cell_type": "code",
   "execution_count": 8,
   "id": "540e101a",
   "metadata": {},
   "outputs": [
    {
     "data": {
      "text/plain": [
       "5"
      ]
     },
     "execution_count": 8,
     "metadata": {},
     "output_type": "execute_result"
    }
   ],
   "source": [
    "3+2"
   ]
  },
  {
   "cell_type": "code",
   "execution_count": 11,
   "id": "1e03fc4d",
   "metadata": {},
   "outputs": [
    {
     "data": {
      "text/plain": [
       "bool"
      ]
     },
     "execution_count": 11,
     "metadata": {},
     "output_type": "execute_result"
    }
   ],
   "source": [
    "g= True\n",
    "type(g)"
   ]
  },
  {
   "cell_type": "code",
   "execution_count": 12,
   "id": "752ce0b5",
   "metadata": {},
   "outputs": [
    {
     "data": {
      "text/plain": [
       "bool"
      ]
     },
     "execution_count": 12,
     "metadata": {},
     "output_type": "execute_result"
    }
   ],
   "source": [
    "g=False\n",
    "type(g)"
   ]
  },
  {
   "cell_type": "code",
   "execution_count": 14,
   "id": "f84fc146",
   "metadata": {},
   "outputs": [
    {
     "data": {
      "text/plain": [
       "True"
      ]
     },
     "execution_count": 14,
     "metadata": {},
     "output_type": "execute_result"
    }
   ],
   "source": [
    "a,b,c,d,e=45,\"akshata\",3+2j,True,12.19\n",
    "d"
   ]
  },
  {
   "cell_type": "code",
   "execution_count": 15,
   "id": "251dfa38",
   "metadata": {},
   "outputs": [
    {
     "data": {
      "text/plain": [
       "12.19"
      ]
     },
     "execution_count": 15,
     "metadata": {},
     "output_type": "execute_result"
    }
   ],
   "source": [
    "e"
   ]
  },
  {
   "cell_type": "code",
   "execution_count": 16,
   "id": "a595fa4c",
   "metadata": {},
   "outputs": [
    {
     "data": {
      "text/plain": [
       "'akshata'"
      ]
     },
     "execution_count": 16,
     "metadata": {},
     "output_type": "execute_result"
    }
   ],
   "source": [
    "b"
   ]
  },
  {
   "cell_type": "code",
   "execution_count": 17,
   "id": "9a3c2570",
   "metadata": {},
   "outputs": [
    {
     "data": {
      "text/plain": [
       "(3+2j)"
      ]
     },
     "execution_count": 17,
     "metadata": {},
     "output_type": "execute_result"
    }
   ],
   "source": [
    "c"
   ]
  },
  {
   "cell_type": "code",
   "execution_count": 18,
   "id": "6d2be5fc",
   "metadata": {},
   "outputs": [
    {
     "data": {
      "text/plain": [
       "2.0"
      ]
     },
     "execution_count": 18,
     "metadata": {},
     "output_type": "execute_result"
    }
   ],
   "source": [
    "c.imag"
   ]
  },
  {
   "cell_type": "code",
   "execution_count": 20,
   "id": "85c11988",
   "metadata": {},
   "outputs": [
    {
     "data": {
      "text/plain": [
       "3.0"
      ]
     },
     "execution_count": 20,
     "metadata": {},
     "output_type": "execute_result"
    }
   ],
   "source": [
    "c.real"
   ]
  },
  {
   "cell_type": "code",
   "execution_count": 23,
   "id": "0f606d69",
   "metadata": {},
   "outputs": [
    {
     "data": {
      "text/plain": [
       "'akshata4'"
      ]
     },
     "execution_count": 23,
     "metadata": {},
     "output_type": "execute_result"
    }
   ],
   "source": [
    "a=\"akshata\"\n",
    "a+str(4)"
   ]
  },
  {
   "cell_type": "code",
   "execution_count": 24,
   "id": "53a4753e",
   "metadata": {},
   "outputs": [
    {
     "data": {
      "text/plain": [
       "1"
      ]
     },
     "execution_count": 24,
     "metadata": {},
     "output_type": "execute_result"
    }
   ],
   "source": [
    "True+False"
   ]
  },
  {
   "cell_type": "code",
   "execution_count": 26,
   "id": "95bb90f4",
   "metadata": {},
   "outputs": [
    {
     "data": {
      "text/plain": [
       "0"
      ]
     },
     "execution_count": 26,
     "metadata": {},
     "output_type": "execute_result"
    }
   ],
   "source": [
    "True*False"
   ]
  },
  {
   "cell_type": "code",
   "execution_count": 27,
   "id": "b28015d0",
   "metadata": {},
   "outputs": [
    {
     "data": {
      "text/plain": [
       "1"
      ]
     },
     "execution_count": 27,
     "metadata": {},
     "output_type": "execute_result"
    }
   ],
   "source": [
    "1+False"
   ]
  },
  {
   "cell_type": "code",
   "execution_count": 28,
   "id": "9b1c29b3",
   "metadata": {},
   "outputs": [
    {
     "data": {
      "text/plain": [
       "-1"
      ]
     },
     "execution_count": 28,
     "metadata": {},
     "output_type": "execute_result"
    }
   ],
   "source": [
    "False-True"
   ]
  },
  {
   "cell_type": "code",
   "execution_count": 29,
   "id": "14e165e2",
   "metadata": {},
   "outputs": [
    {
     "data": {
      "text/plain": [
       "24"
      ]
     },
     "execution_count": 29,
     "metadata": {},
     "output_type": "execute_result"
    }
   ],
   "source": [
    "int(\"24\")"
   ]
  },
  {
   "cell_type": "code",
   "execution_count": 31,
   "id": "e1e5e4ab",
   "metadata": {},
   "outputs": [
    {
     "data": {
      "text/plain": [
       "'54'"
      ]
     },
     "execution_count": 31,
     "metadata": {},
     "output_type": "execute_result"
    }
   ],
   "source": [
    "str(54)"
   ]
  },
  {
   "cell_type": "code",
   "execution_count": 32,
   "id": "ee516eca",
   "metadata": {},
   "outputs": [
    {
     "data": {
      "text/plain": [
       "int"
      ]
     },
     "execution_count": 32,
     "metadata": {},
     "output_type": "execute_result"
    }
   ],
   "source": [
    "a=123\n",
    "type(a)"
   ]
  },
  {
   "cell_type": "code",
   "execution_count": 33,
   "id": "97df22de",
   "metadata": {},
   "outputs": [
    {
     "name": "stdout",
     "output_type": "stream",
     "text": [
      "12345\n"
     ]
    }
   ],
   "source": [
    "b=input()"
   ]
  },
  {
   "cell_type": "code",
   "execution_count": 35,
   "id": "afdca02d",
   "metadata": {},
   "outputs": [
    {
     "data": {
      "text/plain": [
       "'a12345'"
      ]
     },
     "execution_count": 35,
     "metadata": {},
     "output_type": "execute_result"
    }
   ],
   "source": [
    "\"a\"+b"
   ]
  },
  {
   "cell_type": "code",
   "execution_count": 36,
   "id": "bb70d1d9",
   "metadata": {},
   "outputs": [
    {
     "data": {
      "text/plain": [
       "'12312345'"
      ]
     },
     "execution_count": 36,
     "metadata": {},
     "output_type": "execute_result"
    }
   ],
   "source": [
    "str(a)+b"
   ]
  },
  {
   "cell_type": "code",
   "execution_count": 37,
   "id": "a1ea8106",
   "metadata": {},
   "outputs": [
    {
     "data": {
      "text/plain": [
       "123"
      ]
     },
     "execution_count": 37,
     "metadata": {},
     "output_type": "execute_result"
    }
   ],
   "source": [
    "a"
   ]
  },
  {
   "cell_type": "code",
   "execution_count": 38,
   "id": "8afcb336",
   "metadata": {},
   "outputs": [
    {
     "data": {
      "text/plain": [
       "'123'"
      ]
     },
     "execution_count": 38,
     "metadata": {},
     "output_type": "execute_result"
    }
   ],
   "source": [
    "str(a)"
   ]
  },
  {
   "cell_type": "code",
   "execution_count": 41,
   "id": "2f8de5c4",
   "metadata": {},
   "outputs": [
    {
     "data": {
      "text/plain": [
       "'I have eaten 99 burritos.'"
      ]
     },
     "execution_count": 41,
     "metadata": {},
     "output_type": "execute_result"
    }
   ],
   "source": [
    "'I have eaten ' + str(99) + ' burritos.'"
   ]
  },
  {
   "cell_type": "code",
   "execution_count": 43,
   "id": "ab811504",
   "metadata": {},
   "outputs": [
    {
     "data": {
      "text/plain": [
       "'spamspamspam'"
      ]
     },
     "execution_count": 43,
     "metadata": {},
     "output_type": "execute_result"
    }
   ],
   "source": [
    "'spam'+'spamspam'"
   ]
  },
  {
   "cell_type": "code",
   "execution_count": 44,
   "id": "5b8cd8b9",
   "metadata": {},
   "outputs": [
    {
     "data": {
      "text/plain": [
       "'spamspamspam'"
      ]
     },
     "execution_count": 44,
     "metadata": {},
     "output_type": "execute_result"
    }
   ],
   "source": [
    "'spam'*3"
   ]
  },
  {
   "cell_type": "code",
   "execution_count": 45,
   "id": "9aba7676",
   "metadata": {},
   "outputs": [],
   "source": [
    "bacon= 22"
   ]
  },
  {
   "cell_type": "code",
   "execution_count": 46,
   "id": "212fafdf",
   "metadata": {},
   "outputs": [
    {
     "data": {
      "text/plain": [
       "23"
      ]
     },
     "execution_count": 46,
     "metadata": {},
     "output_type": "execute_result"
    }
   ],
   "source": [
    "bacon+1"
   ]
  },
  {
   "cell_type": "code",
   "execution_count": 47,
   "id": "904c6851",
   "metadata": {},
   "outputs": [
    {
     "data": {
      "text/plain": [
       "'e'"
      ]
     },
     "execution_count": 47,
     "metadata": {},
     "output_type": "execute_result"
    }
   ],
   "source": [
    "s=\"jeetu\"\n",
    "s[1]"
   ]
  },
  {
   "cell_type": "code",
   "execution_count": 48,
   "id": "c4ff3966",
   "metadata": {},
   "outputs": [
    {
     "data": {
      "text/plain": [
       "'u'"
      ]
     },
     "execution_count": 48,
     "metadata": {},
     "output_type": "execute_result"
    }
   ],
   "source": [
    "s[4]"
   ]
  },
  {
   "cell_type": "code",
   "execution_count": 49,
   "id": "07afb7e1",
   "metadata": {},
   "outputs": [
    {
     "data": {
      "text/plain": [
       "'u'"
      ]
     },
     "execution_count": 49,
     "metadata": {},
     "output_type": "execute_result"
    }
   ],
   "source": [
    "s[-1]"
   ]
  },
  {
   "cell_type": "code",
   "execution_count": 51,
   "id": "356d3b4a",
   "metadata": {},
   "outputs": [
    {
     "data": {
      "text/plain": [
       "'my name is a'"
      ]
     },
     "execution_count": 51,
     "metadata": {},
     "output_type": "execute_result"
    }
   ],
   "source": [
    "a=\"my name is akshata\"\n",
    "a[0:12]"
   ]
  },
  {
   "cell_type": "code",
   "execution_count": 52,
   "id": "3aeb02f0",
   "metadata": {},
   "outputs": [
    {
     "data": {
      "text/plain": [
       "'jagj'"
      ]
     },
     "execution_count": 52,
     "metadata": {},
     "output_type": "execute_result"
    }
   ],
   "source": [
    "b=\"jagjit\"\n",
    "b[0:4]"
   ]
  },
  {
   "cell_type": "code",
   "execution_count": 53,
   "id": "0d6f7857",
   "metadata": {},
   "outputs": [
    {
     "data": {
      "text/plain": [
       "'my name is akshata'"
      ]
     },
     "execution_count": 53,
     "metadata": {},
     "output_type": "execute_result"
    }
   ],
   "source": [
    "a"
   ]
  },
  {
   "cell_type": "code",
   "execution_count": 54,
   "id": "014a4fdb",
   "metadata": {},
   "outputs": [
    {
     "data": {
      "text/plain": [
       "'m aei kht'"
      ]
     },
     "execution_count": 54,
     "metadata": {},
     "output_type": "execute_result"
    }
   ],
   "source": [
    "a[0:300:2]"
   ]
  },
  {
   "cell_type": "code",
   "execution_count": 55,
   "id": "6a176cf3",
   "metadata": {},
   "outputs": [
    {
     "data": {
      "text/plain": [
       "'atahska si eman ym'"
      ]
     },
     "execution_count": 55,
     "metadata": {},
     "output_type": "execute_result"
    }
   ],
   "source": [
    "a[-1:-300:-1]"
   ]
  },
  {
   "cell_type": "code",
   "execution_count": 56,
   "id": "2688113c",
   "metadata": {},
   "outputs": [
    {
     "data": {
      "text/plain": [
       "4"
      ]
     },
     "execution_count": 56,
     "metadata": {},
     "output_type": "execute_result"
    }
   ],
   "source": [
    "a.find('a')"
   ]
  },
  {
   "cell_type": "code",
   "execution_count": 57,
   "id": "1cd38182",
   "metadata": {},
   "outputs": [
    {
     "data": {
      "text/plain": [
       "14"
      ]
     },
     "execution_count": 57,
     "metadata": {},
     "output_type": "execute_result"
    }
   ],
   "source": [
    "a.find('h')"
   ]
  },
  {
   "cell_type": "code",
   "execution_count": 58,
   "id": "409be232",
   "metadata": {},
   "outputs": [
    {
     "data": {
      "text/plain": [
       "18"
      ]
     },
     "execution_count": 58,
     "metadata": {},
     "output_type": "execute_result"
    }
   ],
   "source": [
    "len(a)"
   ]
  },
  {
   "cell_type": "code",
   "execution_count": 60,
   "id": "8e86c7d2",
   "metadata": {},
   "outputs": [
    {
     "data": {
      "text/plain": [
       "4"
      ]
     },
     "execution_count": 60,
     "metadata": {},
     "output_type": "execute_result"
    }
   ],
   "source": [
    "a.count('a')"
   ]
  },
  {
   "cell_type": "code",
   "execution_count": 61,
   "id": "30fd0be0",
   "metadata": {},
   "outputs": [
    {
     "data": {
      "text/plain": [
       "['my n', 'me is ', 'ksh', 't', '']"
      ]
     },
     "execution_count": 61,
     "metadata": {},
     "output_type": "execute_result"
    }
   ],
   "source": [
    "a.split('a')"
   ]
  },
  {
   "cell_type": "code",
   "execution_count": 65,
   "id": "7cd63213",
   "metadata": {},
   "outputs": [
    {
     "data": {
      "text/plain": [
       "['my', 'name', 'is', 'akshata']"
      ]
     },
     "execution_count": 65,
     "metadata": {},
     "output_type": "execute_result"
    }
   ],
   "source": [
    "a.split()"
   ]
  },
  {
   "cell_type": "code",
   "execution_count": 63,
   "id": "d2dfc390",
   "metadata": {},
   "outputs": [
    {
     "data": {
      "text/plain": [
       "list"
      ]
     },
     "execution_count": 63,
     "metadata": {},
     "output_type": "execute_result"
    }
   ],
   "source": [
    "type(a.split())"
   ]
  },
  {
   "cell_type": "code",
   "execution_count": 66,
   "id": "75cd03d9",
   "metadata": {},
   "outputs": [],
   "source": [
    "l=a.split()"
   ]
  },
  {
   "cell_type": "code",
   "execution_count": 67,
   "id": "49aad882",
   "metadata": {},
   "outputs": [
    {
     "data": {
      "text/plain": [
       "['my', 'name', 'is', 'akshata']"
      ]
     },
     "execution_count": 67,
     "metadata": {},
     "output_type": "execute_result"
    }
   ],
   "source": [
    "l"
   ]
  },
  {
   "cell_type": "code",
   "execution_count": 68,
   "id": "603d8480",
   "metadata": {},
   "outputs": [
    {
     "data": {
      "text/plain": [
       "'name'"
      ]
     },
     "execution_count": 68,
     "metadata": {},
     "output_type": "execute_result"
    }
   ],
   "source": [
    "l[1]"
   ]
  },
  {
   "cell_type": "code",
   "execution_count": 69,
   "id": "d89e5d95",
   "metadata": {},
   "outputs": [
    {
     "data": {
      "text/plain": [
       "'is'"
      ]
     },
     "execution_count": 69,
     "metadata": {},
     "output_type": "execute_result"
    }
   ],
   "source": [
    "l[-2]"
   ]
  },
  {
   "cell_type": "code",
   "execution_count": 71,
   "id": "d71b90a0",
   "metadata": {},
   "outputs": [
    {
     "data": {
      "text/plain": [
       "['my', 'name', 'is']"
      ]
     },
     "execution_count": 71,
     "metadata": {},
     "output_type": "execute_result"
    }
   ],
   "source": [
    "l[0:3]"
   ]
  },
  {
   "cell_type": "code",
   "execution_count": 72,
   "id": "52c20592",
   "metadata": {},
   "outputs": [
    {
     "data": {
      "text/plain": [
       "'my name is akshata'"
      ]
     },
     "execution_count": 72,
     "metadata": {},
     "output_type": "execute_result"
    }
   ],
   "source": [
    "a"
   ]
  },
  {
   "cell_type": "code",
   "execution_count": 73,
   "id": "973d971c",
   "metadata": {},
   "outputs": [
    {
     "data": {
      "text/plain": [
       "'MY NAME IS AKSHATA'"
      ]
     },
     "execution_count": 73,
     "metadata": {},
     "output_type": "execute_result"
    }
   ],
   "source": [
    "a.upper()"
   ]
  },
  {
   "cell_type": "code",
   "execution_count": 74,
   "id": "2e9a4b0c",
   "metadata": {},
   "outputs": [
    {
     "data": {
      "text/plain": [
       "'JAGJIT'"
      ]
     },
     "execution_count": 74,
     "metadata": {},
     "output_type": "execute_result"
    }
   ],
   "source": [
    "s=\"jagjit\"\n",
    "s.upper()"
   ]
  },
  {
   "cell_type": "code",
   "execution_count": 75,
   "id": "d952725c",
   "metadata": {},
   "outputs": [
    {
     "data": {
      "text/plain": [
       "'jagjit'"
      ]
     },
     "execution_count": 75,
     "metadata": {},
     "output_type": "execute_result"
    }
   ],
   "source": [
    "s.lower()"
   ]
  },
  {
   "cell_type": "code",
   "execution_count": 76,
   "id": "2e882133",
   "metadata": {},
   "outputs": [
    {
     "data": {
      "text/plain": [
       "'Jagjit'"
      ]
     },
     "execution_count": 76,
     "metadata": {},
     "output_type": "execute_result"
    }
   ],
   "source": [
    "s.title()"
   ]
  },
  {
   "cell_type": "code",
   "execution_count": 77,
   "id": "1cf7d0e9",
   "metadata": {},
   "outputs": [
    {
     "data": {
      "text/plain": [
       "'MY NAME IS AKSHATA'"
      ]
     },
     "execution_count": 77,
     "metadata": {},
     "output_type": "execute_result"
    }
   ],
   "source": [
    "a.swapcase()"
   ]
  },
  {
   "cell_type": "code",
   "execution_count": 79,
   "id": "bd073ad8",
   "metadata": {},
   "outputs": [
    {
     "data": {
      "text/plain": [
       "'jEETU'"
      ]
     },
     "execution_count": 79,
     "metadata": {},
     "output_type": "execute_result"
    }
   ],
   "source": [
    "s=\"Jeetu\"\n",
    "s.swapcase()"
   ]
  },
  {
   "cell_type": "code",
   "execution_count": 80,
   "id": "7b2959ad",
   "metadata": {},
   "outputs": [
    {
     "data": {
      "text/plain": [
       "'jakshataeakshataeakshatatakshatau'"
      ]
     },
     "execution_count": 80,
     "metadata": {},
     "output_type": "execute_result"
    }
   ],
   "source": [
    "b=\"akshata\"\n",
    "c=\"jeetu\"\n",
    "b.join(c)\n"
   ]
  },
  {
   "cell_type": "code",
   "execution_count": 81,
   "id": "2b5e253e",
   "metadata": {},
   "outputs": [
    {
     "data": {
      "text/plain": [
       "'atahska'"
      ]
     },
     "execution_count": 81,
     "metadata": {},
     "output_type": "execute_result"
    }
   ],
   "source": [
    "b[::-1]"
   ]
  },
  {
   "cell_type": "code",
   "execution_count": 82,
   "id": "543ffe5b",
   "metadata": {},
   "outputs": [
    {
     "data": {
      "text/plain": [
       "'uteej'"
      ]
     },
     "execution_count": 82,
     "metadata": {},
     "output_type": "execute_result"
    }
   ],
   "source": [
    "c[::-1]"
   ]
  },
  {
   "cell_type": "code",
   "execution_count": 83,
   "id": "9e460839",
   "metadata": {},
   "outputs": [
    {
     "data": {
      "text/plain": [
       "' akshata'"
      ]
     },
     "execution_count": 83,
     "metadata": {},
     "output_type": "execute_result"
    }
   ],
   "source": [
    "b=\" akshata \"\n",
    "b.rstrip()"
   ]
  },
  {
   "cell_type": "code",
   "execution_count": 84,
   "id": "1462610a",
   "metadata": {},
   "outputs": [
    {
     "data": {
      "text/plain": [
       "'akshata '"
      ]
     },
     "execution_count": 84,
     "metadata": {},
     "output_type": "execute_result"
    }
   ],
   "source": [
    "b.lstrip()"
   ]
  },
  {
   "cell_type": "code",
   "execution_count": 85,
   "id": "1b4b6a30",
   "metadata": {},
   "outputs": [
    {
     "data": {
      "text/plain": [
       "'akshata'"
      ]
     },
     "execution_count": 85,
     "metadata": {},
     "output_type": "execute_result"
    }
   ],
   "source": [
    "b.strip()"
   ]
  },
  {
   "cell_type": "code",
   "execution_count": 88,
   "id": "e61b3d35",
   "metadata": {},
   "outputs": [
    {
     "data": {
      "text/plain": [
       "' akshaxyza '"
      ]
     },
     "execution_count": 88,
     "metadata": {},
     "output_type": "execute_result"
    }
   ],
   "source": [
    "b.replace(\"t\",\"xyz\")"
   ]
  },
  {
   "cell_type": "code",
   "execution_count": 97,
   "id": "9f401ebe",
   "metadata": {},
   "outputs": [
    {
     "data": {
      "text/plain": [
       "'akshata jeetu'"
      ]
     },
     "execution_count": 97,
     "metadata": {},
     "output_type": "execute_result"
    }
   ],
   "source": [
    "\"akshata\\tjeetu\".expandtabs()"
   ]
  },
  {
   "cell_type": "code",
   "execution_count": 99,
   "id": "34537217",
   "metadata": {},
   "outputs": [
    {
     "data": {
      "text/plain": [
       "'##### akshata ######'"
      ]
     },
     "execution_count": 99,
     "metadata": {},
     "output_type": "execute_result"
    }
   ],
   "source": [
    "b.center(20,\"#\")"
   ]
  },
  {
   "cell_type": "code",
   "execution_count": 100,
   "id": "2d7d8d95",
   "metadata": {},
   "outputs": [
    {
     "data": {
      "text/plain": [
       "' akshata '"
      ]
     },
     "execution_count": 100,
     "metadata": {},
     "output_type": "execute_result"
    }
   ],
   "source": [
    "b"
   ]
  },
  {
   "cell_type": "code",
   "execution_count": 101,
   "id": "b641a003",
   "metadata": {},
   "outputs": [
    {
     "data": {
      "text/plain": [
       "'akshata'"
      ]
     },
     "execution_count": 101,
     "metadata": {},
     "output_type": "execute_result"
    }
   ],
   "source": [
    "b.strip()"
   ]
  },
  {
   "cell_type": "code",
   "execution_count": 102,
   "id": "05f5d110",
   "metadata": {},
   "outputs": [
    {
     "data": {
      "text/plain": [
       "' akshata '"
      ]
     },
     "execution_count": 102,
     "metadata": {},
     "output_type": "execute_result"
    }
   ],
   "source": [
    "b"
   ]
  },
  {
   "cell_type": "code",
   "execution_count": 104,
   "id": "13b97727",
   "metadata": {},
   "outputs": [],
   "source": [
    "b=b.strip()"
   ]
  },
  {
   "cell_type": "code",
   "execution_count": 105,
   "id": "11014859",
   "metadata": {},
   "outputs": [
    {
     "data": {
      "text/plain": [
       "'akshata'"
      ]
     },
     "execution_count": 105,
     "metadata": {},
     "output_type": "execute_result"
    }
   ],
   "source": [
    "b.strip()"
   ]
  },
  {
   "cell_type": "code",
   "execution_count": 106,
   "id": "7b5bf4a4",
   "metadata": {},
   "outputs": [
    {
     "data": {
      "text/plain": [
       "True"
      ]
     },
     "execution_count": 106,
     "metadata": {},
     "output_type": "execute_result"
    }
   ],
   "source": [
    "b.islower()"
   ]
  },
  {
   "cell_type": "code",
   "execution_count": 107,
   "id": "22f7fbae",
   "metadata": {},
   "outputs": [
    {
     "data": {
      "text/plain": [
       "False"
      ]
     },
     "execution_count": 107,
     "metadata": {},
     "output_type": "execute_result"
    }
   ],
   "source": [
    "b.isupper()"
   ]
  },
  {
   "cell_type": "code",
   "execution_count": 108,
   "id": "3534f2fb",
   "metadata": {},
   "outputs": [
    {
     "data": {
      "text/plain": [
       "True"
      ]
     },
     "execution_count": 108,
     "metadata": {},
     "output_type": "execute_result"
    }
   ],
   "source": [
    "b.endswith(\"a\")"
   ]
  },
  {
   "cell_type": "code",
   "execution_count": 109,
   "id": "d7dfe202",
   "metadata": {},
   "outputs": [
    {
     "data": {
      "text/plain": [
       "False"
      ]
     },
     "execution_count": 109,
     "metadata": {},
     "output_type": "execute_result"
    }
   ],
   "source": [
    "b.startswith('k')"
   ]
  },
  {
   "cell_type": "code",
   "execution_count": 110,
   "id": "dbb3d2e7",
   "metadata": {},
   "outputs": [
    {
     "data": {
      "text/plain": [
       "False"
      ]
     },
     "execution_count": 110,
     "metadata": {},
     "output_type": "execute_result"
    }
   ],
   "source": [
    "b.isdecimal()"
   ]
  },
  {
   "cell_type": "code",
   "execution_count": 111,
   "id": "10772dd8",
   "metadata": {},
   "outputs": [
    {
     "data": {
      "text/plain": [
       "False"
      ]
     },
     "execution_count": 111,
     "metadata": {},
     "output_type": "execute_result"
    }
   ],
   "source": [
    "b.isdigit()"
   ]
  },
  {
   "cell_type": "code",
   "execution_count": 112,
   "id": "d120e8ca",
   "metadata": {},
   "outputs": [
    {
     "data": {
      "text/plain": [
       "False"
      ]
     },
     "execution_count": 112,
     "metadata": {},
     "output_type": "execute_result"
    }
   ],
   "source": [
    "b.isspace()"
   ]
  },
  {
   "cell_type": "code",
   "execution_count": 116,
   "id": "ff9d0b84",
   "metadata": {},
   "outputs": [
    {
     "data": {
      "text/plain": [
       "True"
      ]
     },
     "execution_count": 116,
     "metadata": {},
     "output_type": "execute_result"
    }
   ],
   "source": [
    "b=\"       \"\n",
    "b.isspace()"
   ]
  },
  {
   "cell_type": "code",
   "execution_count": 118,
   "id": "68a93041",
   "metadata": {},
   "outputs": [
    {
     "data": {
      "text/plain": [
       "b'akshata'"
      ]
     },
     "execution_count": 118,
     "metadata": {},
     "output_type": "execute_result"
    }
   ],
   "source": [
    "b=\"akshata\"\n",
    "b.encode()"
   ]
  },
  {
   "cell_type": "code",
   "execution_count": null,
   "id": "f16da506",
   "metadata": {},
   "outputs": [],
   "source": []
  }
 ],
 "metadata": {
  "kernelspec": {
   "display_name": "Python 3 (ipykernel)",
   "language": "python",
   "name": "python3"
  },
  "language_info": {
   "codemirror_mode": {
    "name": "ipython",
    "version": 3
   },
   "file_extension": ".py",
   "mimetype": "text/x-python",
   "name": "python",
   "nbconvert_exporter": "python",
   "pygments_lexer": "ipython3",
   "version": "3.9.7"
  }
 },
 "nbformat": 4,
 "nbformat_minor": 5
}
