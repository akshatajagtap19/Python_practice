{
 "cells": [
  {
   "cell_type": "code",
   "execution_count": 4,
   "id": "37d59f3b",
   "metadata": {},
   "outputs": [
    {
     "name": "stdout",
     "output_type": "stream",
     "text": [
      "my name is akshu\n"
     ]
    }
   ],
   "source": [
    "a=10\n",
    "if a<15:\n",
    "    print(\"my name is akshu\")"
   ]
  },
  {
   "cell_type": "code",
   "execution_count": 7,
   "id": "4c5beff5",
   "metadata": {},
   "outputs": [
    {
     "name": "stdout",
     "output_type": "stream",
     "text": [
      "statement is wrong\n"
     ]
    }
   ],
   "source": [
    "if 10<3:\n",
    "    print(\"10 is lesser than 3\")\n",
    "else:\n",
    "    print(\"statement is wrong\")"
   ]
  },
  {
   "cell_type": "code",
   "execution_count": 11,
   "id": "85da23d1",
   "metadata": {},
   "outputs": [
    {
     "name": "stdout",
     "output_type": "stream",
     "text": [
      "25000\n",
      "discount will be 5000.0\n"
     ]
    }
   ],
   "source": [
    "Total_price=int(input())\n",
    "if Total_price>20000:\n",
    "      discount=Total_price*.2\n",
    "      print(\"discount will be\",discount)\n",
    "elif Total_price<=7000:\n",
    "      discount=Total_price*.05\n",
    "      print(\"discount wwill be\",discount)\n",
    "else:\n",
    "      print(\"no discount\")"
   ]
  },
  {
   "cell_type": "code",
   "execution_count": 13,
   "id": "db684cf9",
   "metadata": {},
   "outputs": [
    {
     "name": "stdout",
     "output_type": "stream",
     "text": [
      "8000\n",
      "no discount\n"
     ]
    }
   ],
   "source": [
    "Total_price=int(input())\n",
    "if Total_price>20000:\n",
    "      discount=Total_price*.2\n",
    "      print(\"discount will be\",discount)\n",
    "elif Total_price<=7000:\n",
    "      discount=Total_price*.05\n",
    "      print(\"discount wwill be\",discount)\n",
    "else:\n",
    "      print(\"no discount\")"
   ]
  },
  {
   "cell_type": "code",
   "execution_count": 15,
   "id": "0437b3a5",
   "metadata": {},
   "outputs": [
    {
     "name": "stdout",
     "output_type": "stream",
     "text": [
      "1\n",
      "2\n",
      "3\n",
      "4\n",
      "5\n",
      "6\n"
     ]
    }
   ],
   "source": [
    "l=[1,2,3,4,5,6]\n",
    "for i in l:\n",
    "        print(i)"
   ]
  },
  {
   "cell_type": "code",
   "execution_count": 16,
   "id": "9d910b27",
   "metadata": {},
   "outputs": [
    {
     "name": "stdout",
     "output_type": "stream",
     "text": [
      "a\n",
      "k\n",
      "s\n",
      "h\n",
      "a\n",
      "t\n",
      "a\n"
     ]
    }
   ],
   "source": [
    "s=\"akshata\"\n",
    "for i in s:\n",
    "    print(i)\n",
    "   "
   ]
  },
  {
   "cell_type": "code",
   "execution_count": 18,
   "id": "779c6008",
   "metadata": {},
   "outputs": [
    {
     "name": "stdout",
     "output_type": "stream",
     "text": [
      "<class 'int'>\n",
      "<class 'int'>\n",
      "<class 'float'>\n",
      "<class 'complex'>\n",
      "<class 'str'>\n"
     ]
    }
   ],
   "source": [
    "l=[1,3,4.5,4+3j,\"akshu\"]\n",
    "for i in l:\n",
    "    print(type(i))"
   ]
  },
  {
   "cell_type": "code",
   "execution_count": 24,
   "id": "3dfb4811",
   "metadata": {},
   "outputs": [
    {
     "name": "stdout",
     "output_type": "stream",
     "text": [
      "3\n",
      "4\n",
      "5.4\n"
     ]
    }
   ],
   "source": [
    "l=[1,2,3.4]\n",
    "l1=[]\n",
    "for i in l:\n",
    "    print(i+2)\n",
    "    l1.append(i+2)\n",
    "    "
   ]
  },
  {
   "cell_type": "code",
   "execution_count": 25,
   "id": "732a82d5",
   "metadata": {},
   "outputs": [
    {
     "data": {
      "text/plain": [
       "[3, 4, 5.4]"
      ]
     },
     "execution_count": 25,
     "metadata": {},
     "output_type": "execute_result"
    }
   ],
   "source": [
    "l1"
   ]
  },
  {
   "cell_type": "code",
   "execution_count": 32,
   "id": "03b3522a",
   "metadata": {},
   "outputs": [
    {
     "name": "stdout",
     "output_type": "stream",
     "text": [
      "3.4\n"
     ]
    }
   ],
   "source": [
    "l=[1,2,3.4,4+3j,[1,2,3]]\n",
    "for i in l:\n",
    "    if type(i)==float:\n",
    "        print(i)\n",
    "     "
   ]
  },
  {
   "cell_type": "code",
   "execution_count": 34,
   "id": "4d2c7e49",
   "metadata": {},
   "outputs": [
    {
     "name": "stdout",
     "output_type": "stream",
     "text": [
      "1\n",
      "2\n",
      "1\n",
      "2\n",
      "3\n"
     ]
    }
   ],
   "source": [
    "l=[1,2,3.4,4+3j,[1,2,3,\"jeetu\"]]\n",
    "for i in l:\n",
    "    if type(i)==int:\n",
    "        print(i)\n",
    "    elif type(i)==list:\n",
    "       for j in i:\n",
    "            if type(j)==int:\n",
    "                print(j)\n",
    "            "
   ]
  },
  {
   "cell_type": "code",
   "execution_count": 49,
   "id": "19a8ae5a",
   "metadata": {},
   "outputs": [
    {
     "data": {
      "text/plain": [
       "8"
      ]
     },
     "execution_count": 49,
     "metadata": {},
     "output_type": "execute_result"
    }
   ],
   "source": [
    "l=[1,2,4,4,\"akshu\",3.4,4+3j,[1,2,3,\"jeetu\"]]\n",
    "len(l)"
   ]
  },
  {
   "cell_type": "code",
   "execution_count": 84,
   "id": "7c521ff8",
   "metadata": {},
   "outputs": [
    {
     "name": "stdout",
     "output_type": "stream",
     "text": [
      "index 0 is 1\n",
      "index 1 is 2\n",
      "index 2 is 4\n",
      "index 3 is 4\n",
      "index 4 is akshu\n",
      "index 5 is 3.4\n",
      "index 6 is (4+3j)\n",
      "index 7 is [1, 2, 3, 'jeetu']\n"
     ]
    }
   ],
   "source": [
    "for i in range (len(l)):\n",
    "    print(\"index\",i,\"is\",l[i])"
   ]
  },
  {
   "cell_type": "code",
   "execution_count": 50,
   "id": "94bbc4a3",
   "metadata": {},
   "outputs": [
    {
     "name": "stdout",
     "output_type": "stream",
     "text": [
      "(0, 1)\n",
      "(1, 2)\n",
      "(2, 4)\n",
      "(3, 4)\n",
      "(4, 'akshu')\n",
      "(5, 3.4)\n",
      "(6, (4+3j))\n",
      "(7, [1, 2, 3, 'jeetu'])\n"
     ]
    }
   ],
   "source": [
    "for i in enumerate(l):\n",
    "    print(i)"
   ]
  },
  {
   "cell_type": "code",
   "execution_count": 51,
   "id": "c9607304",
   "metadata": {},
   "outputs": [
    {
     "name": "stdout",
     "output_type": "stream",
     "text": [
      "0 1\n",
      "1 2\n",
      "2 4\n",
      "3 4\n",
      "4 akshu\n",
      "5 3.4\n",
      "6 (4+3j)\n",
      "7 [1, 2, 3, 'jeetu']\n"
     ]
    }
   ],
   "source": [
    "for i,j in enumerate(l):\n",
    "    print(i,j)"
   ]
  },
  {
   "cell_type": "code",
   "execution_count": 52,
   "id": "536b2692",
   "metadata": {},
   "outputs": [
    {
     "data": {
      "text/plain": [
       "[1, 2, 4, 4, 'akshu', 3.4, (4+3j), [1, 2, 3, 'jeetu']]"
      ]
     },
     "execution_count": 52,
     "metadata": {},
     "output_type": "execute_result"
    }
   ],
   "source": [
    "l"
   ]
  },
  {
   "cell_type": "code",
   "execution_count": 80,
   "id": "2536bf6c",
   "metadata": {
    "scrolled": true
   },
   "outputs": [
    {
     "name": "stdout",
     "output_type": "stream",
     "text": [
      "['a', 'k', 's', 'h', 'u']\n"
     ]
    }
   ],
   "source": [
    "for i in (l):\n",
    "    if type(i)==str:\n",
    "        l1=[]\n",
    "        for j in (i):\n",
    "            l1.append(j)\n",
    "        print(l1)\n",
    "\n",
    "        "
   ]
  },
  {
   "cell_type": "code",
   "execution_count": 75,
   "id": "f0e966ed",
   "metadata": {},
   "outputs": [],
   "source": [
    "l2=[]\n",
    "for i in l:\n",
    "    if type(i)==int:\n",
    "        l2.append(i**2)\n"
   ]
  },
  {
   "cell_type": "code",
   "execution_count": 76,
   "id": "05bbc18a",
   "metadata": {},
   "outputs": [
    {
     "data": {
      "text/plain": [
       "[1, 4, 16, 16]"
      ]
     },
     "execution_count": 76,
     "metadata": {},
     "output_type": "execute_result"
    }
   ],
   "source": [
    "if spam == 10:\n",
    "    print('eggs')\n",
    "if spam > 5:\n",
    "    print('bacon')\n",
    "else:\n",
    "    print('ham')\n",
    "print('spam')\n",
    "print('spam')\n"
   ]
  },
  {
   "cell_type": "code",
   "execution_count": 97,
   "id": "2f05219f",
   "metadata": {},
   "outputs": [
    {
     "name": "stdout",
     "output_type": "stream",
     "text": [
      "Here...\n",
      "1\n",
      "Here...\n",
      "3\n",
      "Here...\n",
      "5\n",
      "Here...\n"
     ]
    }
   ],
   "source": [
    "for i in range(10):\n",
    "    if i%2 == 0:\n",
    "        print(\"Here...\")\n",
    "        continue\n",
    "    if i== 7:\n",
    "        break\n",
    "    print(i)"
   ]
  },
  {
   "cell_type": "code",
   "execution_count": 98,
   "id": "8ab7e2fe",
   "metadata": {},
   "outputs": [
    {
     "data": {
      "text/plain": [
       "[]"
      ]
     },
     "execution_count": 98,
     "metadata": {},
     "output_type": "execute_result"
    }
   ],
   "source": [
    "list(range(3,10,-1))\n"
   ]
  },
  {
   "cell_type": "code",
   "execution_count": 99,
   "id": "80913a76",
   "metadata": {},
   "outputs": [
    {
     "data": {
      "text/plain": [
       "[3, 4, 5, 6, 7, 8, 9]"
      ]
     },
     "execution_count": 99,
     "metadata": {},
     "output_type": "execute_result"
    }
   ],
   "source": [
    "list(range(3,10))"
   ]
  },
  {
   "cell_type": "code",
   "execution_count": 100,
   "id": "5e23b618",
   "metadata": {},
   "outputs": [
    {
     "data": {
      "text/plain": [
       "[10, 9, 8, 7, 6, 5, 4]"
      ]
     },
     "execution_count": 100,
     "metadata": {},
     "output_type": "execute_result"
    }
   ],
   "source": [
    "list(range(10,3,-1))"
   ]
  },
  {
   "cell_type": "code",
   "execution_count": 105,
   "id": "748ea293",
   "metadata": {},
   "outputs": [
    {
     "name": "stdout",
     "output_type": "stream",
     "text": [
      "*\n",
      "\n",
      "**\n",
      "\n",
      "***\n",
      "\n",
      "****\n",
      "\n",
      "*****\n",
      "\n"
     ]
    }
   ],
   "source": [
    "n=5\n",
    "for i in range(0,n):\n",
    "    for j in range(0,i+1):\n",
    "        print(\"*\",end=\"\")\n",
    "    print(\"\\n\")"
   ]
  },
  {
   "cell_type": "code",
   "execution_count": 107,
   "id": "4b16bbf9",
   "metadata": {},
   "outputs": [
    {
     "name": "stdout",
     "output_type": "stream",
     "text": [
      "1\n",
      "2\n",
      "3\n",
      "4\n",
      "5\n"
     ]
    }
   ],
   "source": [
    "l=[1,2,3,4,5]\n",
    "for i in l:\n",
    "    print(i)"
   ]
  },
  {
   "cell_type": "code",
   "execution_count": 112,
   "id": "1451db8a",
   "metadata": {},
   "outputs": [
    {
     "name": "stdout",
     "output_type": "stream",
     "text": [
      "1\n",
      "2\n",
      "24\n",
      "5\n",
      "55\n"
     ]
    }
   ],
   "source": [
    "t=(1,2,24,5,55)\n",
    "for i in t:\n",
    "    print(i)"
   ]
  },
  {
   "cell_type": "code",
   "execution_count": 114,
   "id": "618874c2",
   "metadata": {},
   "outputs": [
    {
     "name": "stdout",
     "output_type": "stream",
     "text": [
      "a\n",
      "k\n",
      "s\n",
      "h\n",
      "u\n"
     ]
    }
   ],
   "source": [
    "s=\"akshu\"\n",
    "for i in s:\n",
    "    print(i)"
   ]
  },
  {
   "cell_type": "code",
   "execution_count": 116,
   "id": "3dc46a03",
   "metadata": {},
   "outputs": [
    {
     "name": "stdout",
     "output_type": "stream",
     "text": [
      "0 1\n",
      "1 2\n",
      "2 24\n",
      "3 5\n",
      "4 55\n"
     ]
    }
   ],
   "source": [
    "for i in range(len(t)):\n",
    "    print(i,t[i])"
   ]
  },
  {
   "cell_type": "code",
   "execution_count": 117,
   "id": "240a3d70",
   "metadata": {},
   "outputs": [
    {
     "data": {
      "text/plain": [
       "(1, 2, 24, 5, 55)"
      ]
     },
     "execution_count": 117,
     "metadata": {},
     "output_type": "execute_result"
    }
   ],
   "source": [
    "t"
   ]
  },
  {
   "cell_type": "code",
   "execution_count": 118,
   "id": "225e1220",
   "metadata": {},
   "outputs": [
    {
     "data": {
      "text/plain": [
       "(55, 5, 24, 2, 1)"
      ]
     },
     "execution_count": 118,
     "metadata": {},
     "output_type": "execute_result"
    }
   ],
   "source": [
    "t[::-1]"
   ]
  },
  {
   "cell_type": "code",
   "execution_count": 123,
   "id": "74825604",
   "metadata": {},
   "outputs": [
    {
     "name": "stdout",
     "output_type": "stream",
     "text": [
      "55\n",
      "5\n",
      "24\n",
      "2\n",
      "1\n"
     ]
    }
   ],
   "source": [
    "for i in range(len(t)-1,0-1,-1):\n",
    "    print(t[i])"
   ]
  },
  {
   "cell_type": "code",
   "execution_count": 125,
   "id": "725393bd",
   "metadata": {},
   "outputs": [
    {
     "name": "stdout",
     "output_type": "stream",
     "text": [
      "a\n",
      "b\n",
      "c\n",
      "d\n"
     ]
    }
   ],
   "source": [
    "d={\"a\":\"djdj\",\"b\":[1,2,4,5,6],\"c\":(1,3,4,2,6),\"d\":\"jeetu\"}\n",
    "for i in d:\n",
    "    print(i)"
   ]
  },
  {
   "cell_type": "code",
   "execution_count": 126,
   "id": "40ba7e74",
   "metadata": {},
   "outputs": [
    {
     "data": {
      "text/plain": [
       "(1, 3, 4, 2, 6)"
      ]
     },
     "execution_count": 126,
     "metadata": {},
     "output_type": "execute_result"
    }
   ],
   "source": [
    "d[\"c\"]"
   ]
  },
  {
   "cell_type": "code",
   "execution_count": 127,
   "id": "ad9d3dbb",
   "metadata": {},
   "outputs": [
    {
     "name": "stdout",
     "output_type": "stream",
     "text": [
      "a djdj\n",
      "b [1, 2, 4, 5, 6]\n",
      "c (1, 3, 4, 2, 6)\n",
      "d jeetu\n"
     ]
    }
   ],
   "source": [
    "for i in d:\n",
    "    print(i,d[i])"
   ]
  },
  {
   "cell_type": "code",
   "execution_count": 128,
   "id": "786791ee",
   "metadata": {},
   "outputs": [
    {
     "name": "stdout",
     "output_type": "stream",
     "text": [
      "('a', 'djdj')\n",
      "('b', [1, 2, 4, 5, 6])\n",
      "('c', (1, 3, 4, 2, 6))\n",
      "('d', 'jeetu')\n"
     ]
    }
   ],
   "source": [
    "for i in d.items():\n",
    "    print(i)"
   ]
  },
  {
   "cell_type": "code",
   "execution_count": 132,
   "id": "00316dec",
   "metadata": {},
   "outputs": [],
   "source": [
    " s={1,2,3,5,3,4,6,9,5,7,7} "
   ]
  },
  {
   "cell_type": "code",
   "execution_count": 133,
   "id": "e3251f9d",
   "metadata": {},
   "outputs": [
    {
     "data": {
      "text/plain": [
       "{1, 2, 3, 4, 5, 6, 7, 9}"
      ]
     },
     "execution_count": 133,
     "metadata": {},
     "output_type": "execute_result"
    }
   ],
   "source": [
    "s"
   ]
  },
  {
   "cell_type": "code",
   "execution_count": 134,
   "id": "1c8b6033",
   "metadata": {},
   "outputs": [
    {
     "name": "stdout",
     "output_type": "stream",
     "text": [
      "1\n",
      "2\n",
      "3\n",
      "4\n",
      "5\n",
      "6\n",
      "7\n",
      "9\n"
     ]
    }
   ],
   "source": [
    "for i in s:\n",
    "    print(i)"
   ]
  },
  {
   "cell_type": "code",
   "execution_count": 137,
   "id": "3ce5cfc3",
   "metadata": {},
   "outputs": [
    {
     "name": "stdout",
     "output_type": "stream",
     "text": [
      "num\n",
      "0\n",
      "num\n",
      "1\n",
      "num\n",
      "num\n",
      "3\n",
      "num\n",
      "4\n"
     ]
    }
   ],
   "source": [
    "for i in range(5):\n",
    "    print(\"num\")\n",
    "    if i==2:\n",
    "        continue;\n",
    "    print(i)\n"
   ]
  },
  {
   "cell_type": "code",
   "execution_count": 139,
   "id": "88dd0dae",
   "metadata": {},
   "outputs": [
    {
     "name": "stdout",
     "output_type": "stream",
     "text": [
      "*\n",
      "**\n",
      "***\n",
      "****\n",
      "*****\n",
      "******\n",
      "*******\n",
      "********\n",
      "*********\n"
     ]
    }
   ],
   "source": [
    "a=10\n",
    "for i in range(1,a):\n",
    "    print(i*\"*\")"
   ]
  },
  {
   "cell_type": "code",
   "execution_count": 140,
   "id": "3166de7a",
   "metadata": {},
   "outputs": [
    {
     "data": {
      "text/plain": [
       "18"
      ]
     },
     "execution_count": 140,
     "metadata": {},
     "output_type": "execute_result"
    }
   ],
   "source": [
    "s=\"My name is akshata\"\n",
    "len(s)"
   ]
  },
  {
   "cell_type": "code",
   "execution_count": 143,
   "id": "6e9f0ca1",
   "metadata": {},
   "outputs": [
    {
     "name": "stdout",
     "output_type": "stream",
     "text": [
      "18\n"
     ]
    }
   ],
   "source": [
    "count=0\n",
    "for i in s:\n",
    "    count=count+1\n",
    "print(count)"
   ]
  },
  {
   "cell_type": "code",
   "execution_count": 144,
   "id": "b1c9f383",
   "metadata": {},
   "outputs": [
    {
     "data": {
      "text/plain": [
       "'atahska si eman yM'"
      ]
     },
     "execution_count": 144,
     "metadata": {},
     "output_type": "execute_result"
    }
   ],
   "source": [
    "s[::-1]"
   ]
  },
  {
   "cell_type": "code",
   "execution_count": 148,
   "id": "417fef3f",
   "metadata": {},
   "outputs": [
    {
     "name": "stdout",
     "output_type": "stream",
     "text": [
      "a\n",
      "t\n",
      "a\n",
      "h\n",
      "s\n",
      "k\n",
      "a\n",
      " \n",
      "s\n",
      "i\n",
      " \n",
      "e\n",
      "m\n",
      "a\n",
      "n\n",
      " \n",
      "y\n",
      "M\n"
     ]
    }
   ],
   "source": [
    "for i in range(len(s)-1,0-1,-1):\n",
    "    print(s[i])"
   ]
  },
  {
   "cell_type": "code",
   "execution_count": 149,
   "id": "daf5f687",
   "metadata": {},
   "outputs": [
    {
     "name": "stdout",
     "output_type": "stream",
     "text": [
      "vowel a\n",
      "not vowel k\n",
      "not vowel s\n",
      "not vowel h\n",
      "vowel a\n",
      "not vowel t\n",
      "vowel a\n"
     ]
    }
   ],
   "source": [
    "s=\"akshata\"\n",
    "v=\"AaEeIiOoUu\"\n",
    "for i in s:\n",
    "    if i in v:\n",
    "        print(\"vowel\",i)\n",
    "    else:\n",
    "        print(\"not vowel\",i)"
   ]
  },
  {
   "cell_type": "code",
   "execution_count": 152,
   "id": "26a5a826",
   "metadata": {},
   "outputs": [
    {
     "data": {
      "text/plain": [
       "False"
      ]
     },
     "execution_count": 152,
     "metadata": {},
     "output_type": "execute_result"
    }
   ],
   "source": [
    "\"u\" in \"akshata\""
   ]
  },
  {
   "cell_type": "code",
   "execution_count": 154,
   "id": "74b34746",
   "metadata": {},
   "outputs": [
    {
     "data": {
      "text/plain": [
       "True"
      ]
     },
     "execution_count": 154,
     "metadata": {},
     "output_type": "execute_result"
    }
   ],
   "source": [
    "\"a\"in \"akshata\""
   ]
  },
  {
   "cell_type": "code",
   "execution_count": 155,
   "id": "d8d849fe",
   "metadata": {},
   "outputs": [
    {
     "name": "stdout",
     "output_type": "stream",
     "text": [
      "eye\n",
      "palindrome eye\n"
     ]
    }
   ],
   "source": [
    "s=input()\n",
    "v=s[::-1]\n",
    "if s==v:\n",
    "    print(\"palindrome\",s)\n",
    "else:\n",
    "    print(\"not palindrome\",s)"
   ]
  },
  {
   "cell_type": "code",
   "execution_count": 156,
   "id": "a64b337a",
   "metadata": {},
   "outputs": [
    {
     "name": "stdout",
     "output_type": "stream",
     "text": [
      "jeetu\n",
      "not palindrome jeetu\n"
     ]
    }
   ],
   "source": [
    "s=input()\n",
    "v=s[::-1]\n",
    "if s==v:\n",
    "    print(\"palindrome\",s)\n",
    "else:\n",
    "    print(\"not palindrome\",s)"
   ]
  },
  {
   "cell_type": "code",
   "execution_count": 157,
   "id": "85a29441",
   "metadata": {},
   "outputs": [
    {
     "data": {
      "text/plain": [
       "True"
      ]
     },
     "execution_count": 157,
     "metadata": {},
     "output_type": "execute_result"
    }
   ],
   "source": [
    "d={\"india\":\"IN\",\"canada\":\"CA\",\"united states\":\"UA\"}\n",
    "\"india\"in d"
   ]
  },
  {
   "cell_type": "code",
   "execution_count": 158,
   "id": "944babe8",
   "metadata": {},
   "outputs": [],
   "source": [
    "l_smaller=[]\n",
    "l_greater=[]\n",
    "for i in d:\n",
    "    if len(i)<=5:\n",
    "        l_smaller.append(i)\n",
    "    else:\n",
    "        l_greater.append(i)"
   ]
  },
  {
   "cell_type": "code",
   "execution_count": 159,
   "id": "fe34b418",
   "metadata": {},
   "outputs": [
    {
     "data": {
      "text/plain": [
       "['india']"
      ]
     },
     "execution_count": 159,
     "metadata": {},
     "output_type": "execute_result"
    }
   ],
   "source": [
    "l_smaller"
   ]
  },
  {
   "cell_type": "code",
   "execution_count": 160,
   "id": "69a7c4dd",
   "metadata": {},
   "outputs": [
    {
     "data": {
      "text/plain": [
       "['canada', 'united states']"
      ]
     },
     "execution_count": 160,
     "metadata": {},
     "output_type": "execute_result"
    }
   ],
   "source": [
    "l_greater"
   ]
  },
  {
   "cell_type": "code",
   "execution_count": 167,
   "id": "09fa88d8",
   "metadata": {},
   "outputs": [
    {
     "name": "stdout",
     "output_type": "stream",
     "text": [
      "12\n",
      "45\n"
     ]
    }
   ],
   "source": [
    "d={\"akshata\":{\"a\":10,\"b\":12,\"c\":3},\"jeetu\":{\"d\":45,\"e\":11,\"f\":2}}\n",
    "l=[]\n",
    "for i in d.values():\n",
    "    for j in i.values():\n",
    "        l.append(j)\n",
    "    print(max(l))"
   ]
  },
  {
   "cell_type": "code",
   "execution_count": 168,
   "id": "bb7fd214",
   "metadata": {},
   "outputs": [
    {
     "name": "stdout",
     "output_type": "stream",
     "text": [
      "12\n",
      "45\n"
     ]
    }
   ],
   "source": [
    "for i in d.values():\n",
    "    print(max(i.values()))"
   ]
  },
  {
   "cell_type": "code",
   "execution_count": 4,
   "id": "d8078156",
   "metadata": {},
   "outputs": [
    {
     "ename": "TypeError",
     "evalue": "'>' not supported between instances of 'tuple' and 'int'",
     "output_type": "error",
     "traceback": [
      "\u001b[1;31m---------------------------------------------------------------------------\u001b[0m",
      "\u001b[1;31mTypeError\u001b[0m                                 Traceback (most recent call last)",
      "\u001b[1;32m~\\AppData\\Local\\Temp/ipykernel_37616/3511620089.py\u001b[0m in \u001b[0;36m<module>\u001b[1;34m\u001b[0m\n\u001b[0;32m      9\u001b[0m         \u001b[1;32mfor\u001b[0m \u001b[0mj\u001b[0m \u001b[1;32min\u001b[0m \u001b[0mi\u001b[0m\u001b[1;33m.\u001b[0m\u001b[0mvalues\u001b[0m\u001b[1;33m(\u001b[0m\u001b[1;33m)\u001b[0m\u001b[1;33m:\u001b[0m\u001b[1;33m\u001b[0m\u001b[1;33m\u001b[0m\u001b[0m\n\u001b[0;32m     10\u001b[0m             \u001b[0ml\u001b[0m\u001b[1;33m.\u001b[0m\u001b[0mappend\u001b[0m\u001b[1;33m(\u001b[0m\u001b[0mj\u001b[0m\u001b[1;33m)\u001b[0m\u001b[1;33m\u001b[0m\u001b[1;33m\u001b[0m\u001b[0m\n\u001b[1;32m---> 11\u001b[1;33m \u001b[0mprint\u001b[0m\u001b[1;33m(\u001b[0m\u001b[0mmax\u001b[0m\u001b[1;33m(\u001b[0m\u001b[0ml\u001b[0m\u001b[1;33m)\u001b[0m\u001b[1;33m)\u001b[0m\u001b[1;33m\u001b[0m\u001b[1;33m\u001b[0m\u001b[0m\n\u001b[0m\u001b[0;32m     12\u001b[0m \u001b[1;33m\u001b[0m\u001b[0m\n",
      "\u001b[1;31mTypeError\u001b[0m: '>' not supported between instances of 'tuple' and 'int'"
     ]
    }
   ],
   "source": [
    "d={\"akshata\":{\"a\":10,\"b\":12,\"c\":3},\"jeetu\":{\"d\":45,\"e\":11,\"f\":2},\"g\":78,\"h\":[1,2,3],\"i\":(4,5,6),\"j\":\"akshu\"}\n",
    "l=[]\n",
    "for i in d.values():\n",
    "    if type(i)==int:\n",
    "        l.append(i)\n",
    "    elif type(i)==str or type(i)==tuple:\n",
    "        l.append(i)\n",
    "    elif type(i)==dict:\n",
    "        for j in i.values():\n",
    "            l.append(j)\n",
    "print(max(l))\n",
    "  \n"
   ]
  },
  {
   "cell_type": "code",
   "execution_count": null,
   "id": "2bd12a60",
   "metadata": {},
   "outputs": [],
   "source": []
  }
 ],
 "metadata": {
  "kernelspec": {
   "display_name": "Python 3 (ipykernel)",
   "language": "python",
   "name": "python3"
  },
  "language_info": {
   "codemirror_mode": {
    "name": "ipython",
    "version": 3
   },
   "file_extension": ".py",
   "mimetype": "text/x-python",
   "name": "python",
   "nbconvert_exporter": "python",
   "pygments_lexer": "ipython3",
   "version": "3.9.7"
  }
 },
 "nbformat": 4,
 "nbformat_minor": 5
}
