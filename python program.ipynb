{
 "cells": [
  {
   "cell_type": "code",
   "execution_count": 4,
   "id": "37d59f3b",
   "metadata": {},
   "outputs": [
    {
     "name": "stdout",
     "output_type": "stream",
     "text": [
      "my name is akshu\n"
     ]
    }
   ],
   "source": [
    "a=10\n",
    "if a<15:\n",
    "    print(\"my name is akshu\")"
   ]
  },
  {
   "cell_type": "code",
   "execution_count": 7,
   "id": "4c5beff5",
   "metadata": {},
   "outputs": [
    {
     "name": "stdout",
     "output_type": "stream",
     "text": [
      "statement is wrong\n"
     ]
    }
   ],
   "source": [
    "if 10<3:\n",
    "    print(\"10 is lesser than 3\")\n",
    "else:\n",
    "    print(\"statement is wrong\")"
   ]
  },
  {
   "cell_type": "code",
   "execution_count": 11,
   "id": "85da23d1",
   "metadata": {},
   "outputs": [
    {
     "name": "stdout",
     "output_type": "stream",
     "text": [
      "25000\n",
      "discount will be 5000.0\n"
     ]
    }
   ],
   "source": [
    "Total_price=int(input())\n",
    "if Total_price>20000:\n",
    "      discount=Total_price*.2\n",
    "      print(\"discount will be\",discount)\n",
    "elif Total_price<=7000:\n",
    "      discount=Total_price*.05\n",
    "      print(\"discount wwill be\",discount)\n",
    "else:\n",
    "      print(\"no discount\")"
   ]
  },
  {
   "cell_type": "code",
   "execution_count": 13,
   "id": "db684cf9",
   "metadata": {},
   "outputs": [
    {
     "name": "stdout",
     "output_type": "stream",
     "text": [
      "8000\n",
      "no discount\n"
     ]
    }
   ],
   "source": [
    "Total_price=int(input())\n",
    "if Total_price>20000:\n",
    "      discount=Total_price*.2\n",
    "      print(\"discount will be\",discount)\n",
    "elif Total_price<=7000:\n",
    "      discount=Total_price*.05\n",
    "      print(\"discount wwill be\",discount)\n",
    "else:\n",
    "      print(\"no discount\")"
   ]
  },
  {
   "cell_type": "code",
   "execution_count": 15,
   "id": "0437b3a5",
   "metadata": {},
   "outputs": [
    {
     "name": "stdout",
     "output_type": "stream",
     "text": [
      "1\n",
      "2\n",
      "3\n",
      "4\n",
      "5\n",
      "6\n"
     ]
    }
   ],
   "source": [
    "l=[1,2,3,4,5,6]\n",
    "for i in l:\n",
    "        print(i)"
   ]
  },
  {
   "cell_type": "code",
   "execution_count": 16,
   "id": "9d910b27",
   "metadata": {},
   "outputs": [
    {
     "name": "stdout",
     "output_type": "stream",
     "text": [
      "a\n",
      "k\n",
      "s\n",
      "h\n",
      "a\n",
      "t\n",
      "a\n"
     ]
    }
   ],
   "source": [
    "s=\"akshata\"\n",
    "for i in s:\n",
    "    print(i)\n",
    "   "
   ]
  },
  {
   "cell_type": "code",
   "execution_count": 18,
   "id": "779c6008",
   "metadata": {},
   "outputs": [
    {
     "name": "stdout",
     "output_type": "stream",
     "text": [
      "<class 'int'>\n",
      "<class 'int'>\n",
      "<class 'float'>\n",
      "<class 'complex'>\n",
      "<class 'str'>\n"
     ]
    }
   ],
   "source": [
    "l=[1,3,4.5,4+3j,\"akshu\"]\n",
    "for i in l:\n",
    "    print(type(i))"
   ]
  },
  {
   "cell_type": "code",
   "execution_count": 24,
   "id": "3dfb4811",
   "metadata": {},
   "outputs": [
    {
     "name": "stdout",
     "output_type": "stream",
     "text": [
      "3\n",
      "4\n",
      "5.4\n"
     ]
    }
   ],
   "source": [
    "l=[1,2,3.4]\n",
    "l1=[]\n",
    "for i in l:\n",
    "    print(i+2)\n",
    "    l1.append(i+2)\n",
    "    "
   ]
  },
  {
   "cell_type": "code",
   "execution_count": 25,
   "id": "732a82d5",
   "metadata": {},
   "outputs": [
    {
     "data": {
      "text/plain": [
       "[3, 4, 5.4]"
      ]
     },
     "execution_count": 25,
     "metadata": {},
     "output_type": "execute_result"
    }
   ],
   "source": [
    "l1"
   ]
  },
  {
   "cell_type": "code",
   "execution_count": 32,
   "id": "03b3522a",
   "metadata": {},
   "outputs": [
    {
     "name": "stdout",
     "output_type": "stream",
     "text": [
      "3.4\n"
     ]
    }
   ],
   "source": [
    "l=[1,2,3.4,4+3j,[1,2,3]]\n",
    "for i in l:\n",
    "    if type(i)==float:\n",
    "        print(i)\n",
    "     "
   ]
  },
  {
   "cell_type": "code",
   "execution_count": 34,
   "id": "4d2c7e49",
   "metadata": {},
   "outputs": [
    {
     "name": "stdout",
     "output_type": "stream",
     "text": [
      "1\n",
      "2\n",
      "1\n",
      "2\n",
      "3\n"
     ]
    }
   ],
   "source": [
    "l=[1,2,3.4,4+3j,[1,2,3,\"jeetu\"]]\n",
    "for i in l:\n",
    "    if type(i)==int:\n",
    "        print(i)\n",
    "    elif type(i)==list:\n",
    "       for j in i:\n",
    "            if type(j)==int:\n",
    "                print(j)\n",
    "            "
   ]
  },
  {
   "cell_type": "code",
   "execution_count": 49,
   "id": "19a8ae5a",
   "metadata": {},
   "outputs": [
    {
     "data": {
      "text/plain": [
       "8"
      ]
     },
     "execution_count": 49,
     "metadata": {},
     "output_type": "execute_result"
    }
   ],
   "source": [
    "l=[1,2,4,4,\"akshu\",3.4,4+3j,[1,2,3,\"jeetu\"]]\n",
    "len(l)"
   ]
  },
  {
   "cell_type": "code",
   "execution_count": 84,
   "id": "7c521ff8",
   "metadata": {},
   "outputs": [
    {
     "name": "stdout",
     "output_type": "stream",
     "text": [
      "index 0 is 1\n",
      "index 1 is 2\n",
      "index 2 is 4\n",
      "index 3 is 4\n",
      "index 4 is akshu\n",
      "index 5 is 3.4\n",
      "index 6 is (4+3j)\n",
      "index 7 is [1, 2, 3, 'jeetu']\n"
     ]
    }
   ],
   "source": [
    "for i in range (len(l)):\n",
    "    print(\"index\",i,\"is\",l[i])"
   ]
  },
  {
   "cell_type": "code",
   "execution_count": 50,
   "id": "94bbc4a3",
   "metadata": {},
   "outputs": [
    {
     "name": "stdout",
     "output_type": "stream",
     "text": [
      "(0, 1)\n",
      "(1, 2)\n",
      "(2, 4)\n",
      "(3, 4)\n",
      "(4, 'akshu')\n",
      "(5, 3.4)\n",
      "(6, (4+3j))\n",
      "(7, [1, 2, 3, 'jeetu'])\n"
     ]
    }
   ],
   "source": [
    "for i in enumerate(l):\n",
    "    print(i)"
   ]
  },
  {
   "cell_type": "code",
   "execution_count": 51,
   "id": "c9607304",
   "metadata": {},
   "outputs": [
    {
     "name": "stdout",
     "output_type": "stream",
     "text": [
      "0 1\n",
      "1 2\n",
      "2 4\n",
      "3 4\n",
      "4 akshu\n",
      "5 3.4\n",
      "6 (4+3j)\n",
      "7 [1, 2, 3, 'jeetu']\n"
     ]
    }
   ],
   "source": [
    "for i,j in enumerate(l):\n",
    "    print(i,j)"
   ]
  },
  {
   "cell_type": "code",
   "execution_count": 52,
   "id": "536b2692",
   "metadata": {},
   "outputs": [
    {
     "data": {
      "text/plain": [
       "[1, 2, 4, 4, 'akshu', 3.4, (4+3j), [1, 2, 3, 'jeetu']]"
      ]
     },
     "execution_count": 52,
     "metadata": {},
     "output_type": "execute_result"
    }
   ],
   "source": [
    "l"
   ]
  },
  {
   "cell_type": "code",
   "execution_count": 80,
   "id": "2536bf6c",
   "metadata": {
    "scrolled": true
   },
   "outputs": [
    {
     "name": "stdout",
     "output_type": "stream",
     "text": [
      "['a', 'k', 's', 'h', 'u']\n"
     ]
    }
   ],
   "source": [
    "for i in (l):\n",
    "    if type(i)==str:\n",
    "        l1=[]\n",
    "        for j in (i):\n",
    "            l1.append(j)\n",
    "        print(l1)\n",
    "\n",
    "        "
   ]
  },
  {
   "cell_type": "code",
   "execution_count": 75,
   "id": "f0e966ed",
   "metadata": {},
   "outputs": [],
   "source": [
    "l2=[]\n",
    "for i in l:\n",
    "    if type(i)==int:\n",
    "        l2.append(i**2)\n"
   ]
  },
  {
   "cell_type": "code",
   "execution_count": 76,
   "id": "05bbc18a",
   "metadata": {},
   "outputs": [
    {
     "data": {
      "text/plain": [
       "[1, 4, 16, 16]"
      ]
     },
     "execution_count": 76,
     "metadata": {},
     "output_type": "execute_result"
    }
   ],
   "source": [
    "if spam == 10:\n",
    "    print('eggs')\n",
    "if spam > 5:\n",
    "    print('bacon')\n",
    "else:\n",
    "    print('ham')\n",
    "print('spam')\n",
    "print('spam')\n"
   ]
  },
  {
   "cell_type": "code",
   "execution_count": 97,
   "id": "dd6ba886",
   "metadata": {},
   "outputs": [
    {
     "name": "stdout",
     "output_type": "stream",
     "text": [
      "Here...\n",
      "1\n",
      "Here...\n",
      "3\n",
      "Here...\n",
      "5\n",
      "Here...\n"
     ]
    }
   ],
   "source": [
    "for i in range(10):\n",
    "    if i%2 == 0:\n",
    "        print(\"Here...\")\n",
    "        continue\n",
    "    if i== 7:\n",
    "        break\n",
    "    print(i)"
   ]
  },
  {
   "cell_type": "code",
   "execution_count": null,
   "id": "a60cfd46",
   "metadata": {},
   "outputs": [],
   "source": [
    "1\n",
    "3\n",
    "5\n"
   ]
  }
 ],
 "metadata": {
  "kernelspec": {
   "display_name": "Python 3 (ipykernel)",
   "language": "python",
   "name": "python3"
  },
  "language_info": {
   "codemirror_mode": {
    "name": "ipython",
    "version": 3
   },
   "file_extension": ".py",
   "mimetype": "text/x-python",
   "name": "python",
   "nbconvert_exporter": "python",
   "pygments_lexer": "ipython3",
   "version": "3.9.7"
  }
 },
 "nbformat": 4,
 "nbformat_minor": 5
}
